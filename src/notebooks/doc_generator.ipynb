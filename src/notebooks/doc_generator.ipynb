{
 "cells": [
  {
   "cell_type": "code",
   "execution_count": 2,
   "source": [
    "\n",
    "from webbrowser import get\n",
    "import requests\n",
    "import base64\n",
    "import urllib\n",
    "import openai \n",
    "import pandas as pd\n",
    "from urllib.parse import urlparse\n",
    "import os\n",
    "from dotenv import load_dotenv \n",
    "import json\n",
    "\n",
    "openai.api_key = os.getenv(\"OPENAI_API_KEY\")\n"
   ],
   "outputs": [],
   "metadata": {}
  },
  {
   "cell_type": "code",
   "execution_count": 3,
   "source": [
    "readme = \"\"\n",
    "summary = {}\n",
    "with open(\"../sample_repos/catfact_readme.md\",\"r\") as file:\n",
    "    readme = file.read()\n",
    "\n",
    "with open(\"../generated_summaries/summary.json\",\"r\") as file:\n",
    "    summary = json.load(file)\n"
   ],
   "outputs": [],
   "metadata": {}
  },
  {
   "cell_type": "code",
   "execution_count": 8,
   "source": [
    "highlevel_prompt = f\"\"\"You are a markdown documentation generator. \n",
    "Please generate an intro.md file to code repository description provided. You will be documenting\n",
    "the developer api that provides cat facts.\n",
    " \n",
    "Here is a dict of filepath:file summary for each file\n",
    "{summary}\n",
    "\n",
    "this intro should be a high level description of the api functionality, and list endpoints with short descriptions of their function.\n",
    "These docs should be written with respect to the end user of the api, and not focus on how the api works\n",
    "\"\"\""
   ],
   "outputs": [],
   "metadata": {}
  },
  {
   "cell_type": "code",
   "execution_count": 9,
   "source": [
    "highlevel_completion = openai.Completion.create(\n",
    "                        model=\"text-davinci-003\",\n",
    "                        prompt = highlevel_prompt,\n",
    "                        temperature = 0,\n",
    "                        max_tokens = 500\n",
    "            ).choices[0].text\n",
    "\n",
    "highlevel_completion"
   ],
   "outputs": [
    {
     "output_type": "execute_result",
     "data": {
      "text/plain": [
       "'\\n# Cat Facts API\\n\\nWelcome to the Cat Facts API! This API provides a way to access cat facts from anywhere in the world. With this API, you can get a random cat fact, get a specific cat fact by ID, and submit your own cat facts.\\n\\n## Endpoints\\n\\n### Get Random Cat Fact\\n\\nThis endpoint returns a random cat fact.\\n\\n**Endpoint:** `GET /api/facts/random`\\n\\n### Get Cat Fact by ID\\n\\nThis endpoint returns a cat fact with the specified ID.\\n\\n**Endpoint:** `GET /api/facts/:id`\\n\\n### Submit Cat Fact\\n\\nThis endpoint allows you to submit your own cat fact.\\n\\n**Endpoint:** `POST /api/facts`'"
      ]
     },
     "metadata": {},
     "execution_count": 9
    }
   ],
   "metadata": {}
  },
  {
   "cell_type": "code",
   "execution_count": null,
   "source": [],
   "outputs": [],
   "metadata": {}
  },
  {
   "cell_type": "markdown",
   "source": [
    "# Cat Facts API\n",
    "\n",
    "Welcome to the Cat Facts API! This API provides a way to access cat facts from anywhere in the world. With this API, you can get a random cat fact, get a specific cat fact by ID, and submit your own cat facts.\n",
    "\n",
    "## Endpoints\n",
    "\n",
    "### Get Random Cat Fact\n",
    "This endpoint returns a random cat fact\n",
    "\n",
    "**Endpoint:** `GET /api/facts/random`\n",
    "### Get Cat Fact by ID\\\n",
    "This endpoint returns a cat fact with the specified ID.\n",
    "\n",
    "**Endpoint:** `GET /api/facts/:id`\n",
    "### Submit Cat Fact\n",
    "This endpoint allows you to submit your own cat fact.\n",
    "\n",
    "**Endpoint:** `POST /api/facts`'"
   ],
   "metadata": {}
  },
  {
   "cell_type": "code",
   "execution_count": 10,
   "source": [
    "code_index = {}\n",
    "\n",
    "with open(\"../cache/code_cache.json\",\"r\") as file:\n",
    "    code_index = json.load(file)[\"cached_index\"]\n",
    "\n",
    "fact_endpoint = code_index[\"app/routes/fact.routes.js\"]\n",
    "fact_model = code_index[\"app/models/fact.js\"]\n",
    "user_model = code_index[\"app/models/user.js\"]"
   ],
   "outputs": [],
   "metadata": {}
  },
  {
   "cell_type": "code",
   "execution_count": 15,
   "source": [
    "prompt = f\"\"\"\n",
    "Please write markdown docs for the endpoint(s) described in the following code. Format like so:\n",
    "\n",
    "# Endpoint_Category Endpoints\n",
    "\n",
    "## Endpoint1 Name\n",
    "\n",
    "```\n",
    "GET /endpoint1/path\n",
    "```\n",
    "Description:\n",
    "\n",
    "Query Parameters: \n",
    "\n",
    "Example Reponse: \n",
    "\n",
    "## Endpoint2 Name\n",
    "\n",
    "```\n",
    "GET /endpoint2/path\n",
    "```\n",
    "Description:\n",
    "\n",
    "Query Parameters: \n",
    "\n",
    "Example Response: \n",
    "\n",
    "endpoint: {fact_endpoint}\n",
    "data model: {fact_model}\n",
    "\"\"\""
   ],
   "outputs": [],
   "metadata": {}
  },
  {
   "cell_type": "code",
   "execution_count": 16,
   "source": [
    "endpoint_completion = openai.Completion.create(\n",
    "                        model=\"text-davinci-003\",\n",
    "                        prompt = prompt,\n",
    "                        temperature = 0,\n",
    "                        max_tokens = 2048\n",
    "            ).choices[0].text\n",
    "\n",
    "md_text = endpoint_completion\n",
    "with open(\"../generated_docs/nb_docs.md\",\"w\") as file:\n",
    "    file.write(md_text)"
   ],
   "outputs": [],
   "metadata": {}
  },
  {
   "cell_type": "code",
   "execution_count": 35,
   "source": [
    "endpoint_indexer_prompt = \"\"\"\n",
    "You are a api documentation planner\n",
    "You will be given a code file which defines api endpoints. You will plan\n",
    "a markdown file which documents these endpoints\n",
    "\n",
    "1. Name the markdown file - be specific\n",
    "2. Parse the file into a list of endpoints\n",
    "3. For each endpoint, do the following:\n",
    "    - name the endpoint\n",
    "    - Give the string indices this code is in between within the file.\n",
    "        - start_index: line where endpoint is first defined\n",
    "        - end_index: last line defining endpoint behavior & returning response\n",
    "    - Give the filepath to the data model this endpoint uses in its response\n",
    "\n",
    "json output format:\n",
    "\n",
    "{\n",
    "    \"md_file\": \"[placeholder].md\",\n",
    "    \"endpoints\":[\n",
    "        {\n",
    "            \"name\": \"endpoint name\",\n",
    "            \"line_indices\": {\"start_index\":int, \"end_index\"int}, \n",
    "            \"response_model\": \"data_model file name\"\n",
    "        }\n",
    "        ...\n",
    "    ]\n",
    "}\n",
    "\n",
    "code:\n",
    "\n",
    "\"\"\""
   ],
   "outputs": [],
   "metadata": {}
  },
  {
   "cell_type": "code",
   "execution_count": 36,
   "source": [
    "endpoint_indexer_completion = openai.Completion.create(\n",
    "                        model=\"text-davinci-003\",\n",
    "                        prompt = endpoint_indexer_prompt+fact_endpoint,\n",
    "                        temperature = 0,\n",
    "                        max_tokens = 2048\n",
    "            ).choices[0].text\n",
    "\n",
    "md_text = endpoint_indexer_completion\n",
    "with open(\"../generated_docs/endpoint_index.md\",\"w\") as file:\n",
    "    file.write(md_text)"
   ],
   "outputs": [],
   "metadata": {}
  },
  {
   "cell_type": "code",
   "execution_count": 39,
   "source": [
    "endpoint_index = {\n",
    "    \"md_file\": \"api_endpoints.md\",\n",
    "    \"endpoints\":[\n",
    "        {\n",
    "            \"name\": \"/\",\n",
    "            \"line_indices\": {\"start_index\": 8, \"end_index\": 16}, \n",
    "            \"response_model\": \"./app/models/fact\"\n",
    "        },\n",
    "        {\n",
    "            \"name\": \"/me\",\n",
    "            \"line_indices\": {\"start_index\": 18, \"end_index\": 28}, \n",
    "            \"response_model\": \"./app/models/fact\"\n",
    "        },\n",
    "        {\n",
    "            \"name\": \"/random\",\n",
    "            \"line_indices\": {\"start_index\": 30, \"end_index\": 43}, \n",
    "            \"response_model\": \"./app/models/fact\"\n",
    "        },\n",
    "        {\n",
    "            \"name\": \"/:factID\",\n",
    "            \"line_indices\": {\"start_index\": 45, \"end_index\": 54}, \n",
    "            \"response_model\": \"./app/models/fact\"\n",
    "        },\n",
    "        {\n",
    "            \"name\": \"/\",\n",
    "            \"line_indices\": {\"start_index\": 56, \"end_index\": 68}, \n",
    "            \"response_model\": \"./app/models/fact\"\n",
    "        }\n",
    "    ]\n",
    "}"
   ],
   "outputs": [],
   "metadata": {}
  },
  {
   "cell_type": "code",
   "execution_count": 40,
   "source": [
    "fact_lines = fact_endpoint.split(\"\\n\")\n",
    "for endpoint in endpoint_index[\"endpoints\"]:\n",
    "    line_indices = endpoint[\"line_indices\"]\n",
    "    ep = fact_lines[line_indices[\"start_index\"]:line_indices[\"end_index\"]]\n",
    "    print('----------------------------------')\n",
    "    for line in ep:\n",
    "        print(line)"
   ],
   "outputs": [
    {
     "output_type": "stream",
     "name": "stdout",
     "text": [
      "----------------------------------\n",
      "\n",
      "router.get('/', async(req, res) => {\n",
      "    try {\n",
      "        const facts = await Fact.find().limit(5);\n",
      "        return res.status(200).json(facts);\n",
      "    } catch (err) {\n",
      "        return res.status(err.status || 400).json(err);\n",
      "    }\n",
      "----------------------------------\n",
      "// Get submitted facts\n",
      "router.get('/me', async(req, res) => {\n",
      "\n",
      "    const animalType = req.query.animal_type ? req.query.animal_type.split(',') : ['cat'];\n",
      "\n",
      "    try {\n",
      "        const data = await Fact.find({\n",
      "                user: req.user._id,\n",
      "                type: { $in: animalType }\n",
      "            })\n",
      "----------------------------------\n",
      "            .limit(10)\n",
      "\n",
      "        return res.status(200).json(data);\n",
      "    } catch (err) {\n",
      "        return res.status(400).json(err);\n",
      "    }\n",
      "});\n",
      "\n",
      "// Get a random fact\n",
      "router.get('/random', logApiRequest, async(req, res) => {\n",
      "\n",
      "    const animalType = req.query.animal_type ? req.query.animal_type.split(',') : ['cat'];\n",
      "    const amount = req.query.amount;\n",
      "----------------------------------\n",
      "        return res.status(405).json({ message: 'Limited to 500 facts at a time' });\n",
      "    }\n",
      "\n",
      "    try {\n",
      "        const facts = await Fact.getFact({ amount, animalType });\n",
      "        return res.status(200).json(facts);\n",
      "    } catch (err) {\n",
      "        return res.status(err.status).json(err);\n",
      "    }\n",
      "----------------------------------\n",
      "// Get fact by ID\n",
      "router.get('/:factID', logApiRequest, async(req, res) => {\n",
      "    try {\n",
      "        const fact = await Fact.findById(req.params.factID).populate('user', 'name photo');\n",
      "\n",
      "        if (!fact) {\n",
      "            return res.status(404).json({ message: 'Fact not found' });\n",
      "        }\n",
      "\n",
      "        return res.status(200).json(fact);\n",
      "    } catch (err) {\n",
      "        return res.status(400).json(err);\n"
     ]
    }
   ],
   "metadata": {}
  },
  {
   "cell_type": "code",
   "execution_count": null,
   "source": [],
   "outputs": [],
   "metadata": {}
  }
 ],
 "metadata": {
  "orig_nbformat": 4,
  "language_info": {
   "name": "python",
   "version": "3.10.6",
   "mimetype": "text/x-python",
   "codemirror_mode": {
    "name": "ipython",
    "version": 3
   },
   "pygments_lexer": "ipython3",
   "nbconvert_exporter": "python",
   "file_extension": ".py"
  },
  "kernelspec": {
   "name": "python3",
   "display_name": "Python 3.10.6 64-bit"
  },
  "interpreter": {
   "hash": "aee8b7b246df8f9039afb4144a1f6fd8d2ca17a180786b69acc140d282b71a49"
  }
 },
 "nbformat": 4,
 "nbformat_minor": 2
}