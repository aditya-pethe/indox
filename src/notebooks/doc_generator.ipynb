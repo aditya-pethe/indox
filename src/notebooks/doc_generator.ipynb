{
 "cells": [
  {
   "cell_type": "code",
   "execution_count": 44,
   "source": [
    "\n",
    "from webbrowser import get\n",
    "import requests\n",
    "import base64\n",
    "import urllib\n",
    "import openai \n",
    "import pandas as pd\n",
    "from urllib.parse import urlparse\n",
    "import os\n",
    "from dotenv import load_dotenv \n",
    "import json\n",
    "load_dotenv()\n",
    "\n",
    "openai.api_key = os.getenv(\"OPENAI_API_KEY\")\n"
   ],
   "outputs": [],
   "metadata": {}
  },
  {
   "cell_type": "code",
   "execution_count": 49,
   "source": [
    "readme = \"\"\n",
    "summary = {}\n",
    "with open(\"../sample_repos/catfact_readme.md\",\"r\") as file:\n",
    "    readme = file.read()\n",
    "\n",
    "with open(\"../generated_summaries/summary.json\",\"r\") as file:\n",
    "    summary = json.load(file)\n"
   ],
   "outputs": [],
   "metadata": {}
  },
  {
   "cell_type": "markdown",
   "source": [
    "## Highlevel Summarization Tests\n",
    "\n",
    "Using summaries, generate intro/getting started documentation"
   ],
   "metadata": {}
  },
  {
   "cell_type": "code",
   "execution_count": 24,
   "source": [
    "highlevel_prompt = f\"\"\"You are a markdown documentation planner. \n",
    "Please plan out a set of markdown files that will document the given code base. You should return the following:\n",
    "\n",
    "1. The name of the .md file\n",
    "2. A description of what the .md file will be about\n",
    "3. For each .md file, list the code files that will be used to generate it \n",
    "\n",
    "Here is a dict of filepath:file summary for each file\n",
    "{summary}\n",
    "\n",
    "This documentation should be planned to help a developer understand the codebase, and high level functionality\n",
    "\"\"\""
   ],
   "outputs": [],
   "metadata": {}
  },
  {
   "cell_type": "code",
   "execution_count": 25,
   "source": [
    "highlevel_completion = openai.Completion.create(\n",
    "                        model=\"text-davinci-003\",\n",
    "                        prompt = highlevel_prompt,\n",
    "                        temperature = 0,\n",
    "                        max_tokens = 1000\n",
    "            ).choices[0].text\n",
    "\n",
    "highlevel_completion"
   ],
   "outputs": [
    {
     "output_type": "execute_result",
     "data": {
      "text/plain": [
       "\"\\n1. Introduction.md\\n    - Description: This file will provide an introduction to the codebase, including a high level overview of the application and its purpose.\\n    - Code Files: None\\n\\n2. Models.md\\n    - Description: This file will provide an overview of the models used in the codebase, including a description of each model and its purpose.\\n    - Code Files: app/models/api-log.js, app/models/fact.js, app/models/message.js, app/models/recipient.js, app/models/unsubscribe-date.js, app/models/user.js, app/models/verification-code.js\\n\\n3. Routes.md\\n    - Description: This file will provide an overview of the routes used in the codebase, including a description of each route and its purpose.\\n    - Code Files: app/routes/auth.routes.js, app/routes/catbot.routes.js, app/routes/console.routes.js, app/routes/contact.routes.js, app/routes/fact.routes.js, app/routes/index.js, app/routes/recipient.routes.js, app/routes/user.routes.js, app/routes/webhook.routes.js\\n\\n4. Authentication.md\\n    - Description: This file will provide an overview of the authentication process used in the codebase, including a description of the authentication middleware and the Google OAuth process.\\n    - Code Files: app/routes/auth.routes.js\\n\\n5. Catbot.md\\n    - Description: This file will provide an overview of the Catbot application, including a description of the daily facts, messages, and authentication routes.\\n    - Code Files: app/routes/catbot.routes.js\\n\\n6. Console.md\\n    - Description: This file will provide an overview of the console routes, including a description of the data that is returned and the authentication and admin middleware used.\\n    - Code Files: app/routes/console.routes.js\\n\\n7. Contact.md\\n    - Description: This file will provide an overview of the contact page, including a description of the Google People API and the filtering process used to get contacts with phone numbers.\\n    - Code Files: app/routes/contact.routes.js\\n\\n8. Fact.md\\n    - Description: This file will provide an overview of the Fact model, including a description of the routes used to get facts, submit facts, and get a random fact.\\n    - Code Files: app/routes/fact.routes.js\\n\\n9. Recipient.md\\n    - Description: This file will provide an overview of the Recipient model, including a description of the routes used to get, add, restore, and delete recipients, as well as get a recipient's conversation.\\n    - Code Files: app/routes/recipient.routes.js\\n\\n10. User.md\\n    - Description: This file will provide an overview of the user routes, including a description of the routes used to get the user's information, delete the user's account, verify the user's phone number, and update the user's phone number.\\n    - Code Files: app/routes/user.routes.js\\n\\n11. Webhook.md\\n    - Description: This file will provide an overview of the webhook route for the api.ai service, including a description of the requests it handles and the operations it performs.\\n    - Code Files: app/routes/webhook.routes.js\""
      ]
     },
     "metadata": {},
     "execution_count": 25
    }
   ],
   "metadata": {}
  },
  {
   "cell_type": "code",
   "execution_count": 27,
   "source": [
    "with open(\"../generated_docs/ai_planning.txt\",\"w\") as file:\n",
    "    file.write(highlevel_completion)"
   ],
   "outputs": [
    {
     "output_type": "error",
     "ename": "FileNotFoundError",
     "evalue": "[Errno 2] No such file or directory: 'generated_docs/ai_planning.txt'",
     "traceback": [
      "\u001b[0;31m---------------------------------------------------------------------------\u001b[0m",
      "\u001b[0;31mFileNotFoundError\u001b[0m                         Traceback (most recent call last)",
      "Cell \u001b[0;32mIn[27], line 1\u001b[0m\n\u001b[0;32m----> 1\u001b[0m \u001b[38;5;28;01mwith\u001b[39;00m \u001b[38;5;28;43mopen\u001b[39;49m\u001b[43m(\u001b[49m\u001b[38;5;124;43m\"\u001b[39;49m\u001b[38;5;124;43mgenerated_docs/ai_planning.txt\u001b[39;49m\u001b[38;5;124;43m\"\u001b[39;49m\u001b[43m,\u001b[49m\u001b[38;5;124;43m\"\u001b[39;49m\u001b[38;5;124;43mw\u001b[39;49m\u001b[38;5;124;43m\"\u001b[39;49m\u001b[43m)\u001b[49m \u001b[38;5;28;01mas\u001b[39;00m file:\n\u001b[1;32m      2\u001b[0m     file\u001b[38;5;241m.\u001b[39mwrite(highlevel_completion)\n",
      "File \u001b[0;32m/usr/local/lib/python3.10/site-packages/IPython/core/interactiveshell.py:282\u001b[0m, in \u001b[0;36m_modified_open\u001b[0;34m(file, *args, **kwargs)\u001b[0m\n\u001b[1;32m    275\u001b[0m \u001b[38;5;28;01mif\u001b[39;00m file \u001b[38;5;129;01min\u001b[39;00m {\u001b[38;5;241m0\u001b[39m, \u001b[38;5;241m1\u001b[39m, \u001b[38;5;241m2\u001b[39m}:\n\u001b[1;32m    276\u001b[0m     \u001b[38;5;28;01mraise\u001b[39;00m \u001b[38;5;167;01mValueError\u001b[39;00m(\n\u001b[1;32m    277\u001b[0m         \u001b[38;5;124mf\u001b[39m\u001b[38;5;124m\"\u001b[39m\u001b[38;5;124mIPython won\u001b[39m\u001b[38;5;124m'\u001b[39m\u001b[38;5;124mt let you open fd=\u001b[39m\u001b[38;5;132;01m{\u001b[39;00mfile\u001b[38;5;132;01m}\u001b[39;00m\u001b[38;5;124m by default \u001b[39m\u001b[38;5;124m\"\u001b[39m\n\u001b[1;32m    278\u001b[0m         \u001b[38;5;124m\"\u001b[39m\u001b[38;5;124mas it is likely to crash IPython. If you know what you are doing, \u001b[39m\u001b[38;5;124m\"\u001b[39m\n\u001b[1;32m    279\u001b[0m         \u001b[38;5;124m\"\u001b[39m\u001b[38;5;124myou can use builtins\u001b[39m\u001b[38;5;124m'\u001b[39m\u001b[38;5;124m open.\u001b[39m\u001b[38;5;124m\"\u001b[39m\n\u001b[1;32m    280\u001b[0m     )\n\u001b[0;32m--> 282\u001b[0m \u001b[38;5;28;01mreturn\u001b[39;00m \u001b[43mio_open\u001b[49m\u001b[43m(\u001b[49m\u001b[43mfile\u001b[49m\u001b[43m,\u001b[49m\u001b[43m \u001b[49m\u001b[38;5;241;43m*\u001b[39;49m\u001b[43margs\u001b[49m\u001b[43m,\u001b[49m\u001b[43m \u001b[49m\u001b[38;5;241;43m*\u001b[39;49m\u001b[38;5;241;43m*\u001b[39;49m\u001b[43mkwargs\u001b[49m\u001b[43m)\u001b[49m\n",
      "\u001b[0;31mFileNotFoundError\u001b[0m: [Errno 2] No such file or directory: 'generated_docs/ai_planning.txt'"
     ]
    }
   ],
   "metadata": {}
  },
  {
   "cell_type": "code",
   "execution_count": 26,
   "source": [
    " Introduction.md\\n    - Description: This file will provide an introduction to the codebase, including a high level overview of the application and its purpose.\\n    - Code Files: None\\n\\n2. Models.md\\n    - Description: This file will provide an overview of the models used in the codebase, including a description of each model and its purpose.\\n    - Code Files: app/models/api-log.js, app/models/fact.js, app/models/message.js, app/models/recipient.js, app/models/unsubscribe-date.js, app/models/user.js, app/models/verification-code.js\\n\\n3. Routes.md\\n    - Description: This file will provide an overview of the routes used in the codebase, including a description of each route and its purpose.\\n    - Code Files: app/routes/auth.routes.js, app/routes/catbot.routes.js, app/routes/console.routes.js, app/routes/contact.routes.js, app/routes/fact.routes.js, app/routes/index.js, app/routes/recipient.routes.js, app/routes/user.routes.js, app/routes/webhook.routes.js\\n\\n4. Authentication.md\\n    - Description: This file will provide an overview of the authentication process used in the codebase, including a description of the authentication middleware and the Google OAuth process.\\n    - Code Files: app/routes/auth.routes.js\\n\\n5. Catbot.md\\n    - Description: This file will provide an overview of the Catbot application, including a description of the daily facts, messages, and authentication routes.\\n    - Code Files: app/routes/catbot.routes.js\\n\\n6. Console.md\\n    - Description: This file will provide an overview of the console routes, including a description of the data that is returned and the authentication and admin middleware used.\\n    - Code Files: app/routes/console.routes.js\\n\\n7. Contact.md\\n    - Description: This file will provide an overview of the contact page, including a description of the Google People API and the filtering process used to get contacts with phone numbers.\\n    - Code Files: app/routes/contact.routes.js\\n\\n8. Fact.md\\n    - Description: This file will provide an overview of the Fact model, including a description of the routes used to get facts, submit facts, and get a random fact.\\n    - Code Files: app/routes/fact.routes.js\\n\\n9. Recipient.md\\n    - Description: This file will provide an overview of the Recipient model, including a description of the routes used to get, add, restore, and delete recipients, as well as get a recipient's conversation.\\n    - Code Files: app/routes/recipient.routes.js\\n\\n10. User.md\\n    - Description: This file will provide an overview of the user routes, including a description of the routes used to get the user's information, delete the user's account, verify the user's phone number, and update the user's phone number.\\n    - Code Files: app/routes/user.routes.js\\n\\n11. Webhook.md\\n    - Description: This file will provide an overview of the webhook route for the api.ai service, including a description of the requests it handles and the operations it performs.\\n    - Code Files: app/routes/webhook.routes.js"
   ],
   "outputs": [
    {
     "output_type": "error",
     "ename": "SyntaxError",
     "evalue": "unexpected character after line continuation character (3669033536.py, line 1)",
     "traceback": [
      "\u001b[0;36m  Cell \u001b[0;32mIn[26], line 1\u001b[0;36m\u001b[0m\n\u001b[0;31m    Introduction.md\\n    - Description: This file will provide an introduction to the codebase, including a high level overview of the application and its purpose.\\n    - Code Files: None\\n\\n2. Models.md\\n    - Description: This file will provide an overview of the models used in the codebase, including a description of each model and its purpose.\\n    - Code Files: app/models/api-log.js, app/models/fact.js, app/models/message.js, app/models/recipient.js, app/models/unsubscribe-date.js, app/models/user.js, app/models/verification-code.js\\n\\n3. Routes.md\\n    - Description: This file will provide an overview of the routes used in the codebase, including a description of each route and its purpose.\\n    - Code Files: app/routes/auth.routes.js, app/routes/catbot.routes.js, app/routes/console.routes.js, app/routes/contact.routes.js, app/routes/fact.routes.js, app/routes/index.js, app/routes/recipient.routes.js, app/routes/user.routes.js, app/routes/webhook.routes.js\\n\\n4. Authentication.md\\n    - Description: This file will provide an overview of the authentication process used in the codebase, including a description of the authentication middleware and the Google OAuth process.\\n    - Code Files: app/routes/auth.routes.js\\n\\n5. Catbot.md\\n    - Description: This file will provide an overview of the Catbot application, including a description of the daily facts, messages, and authentication routes.\\n    - Code Files: app/routes/catbot.routes.js\\n\\n6. Console.md\\n    - Description: This file will provide an overview of the console routes, including a description of the data that is returned and the authentication and admin middleware used.\\n    - Code Files: app/routes/console.routes.js\\n\\n7. Contact.md\\n    - Description: This file will provide an overview of the contact page, including a description of the Google People API and the filtering process used to get contacts with phone numbers.\\n    - Code Files: app/routes/contact.routes.js\\n\\n8. Fact.md\\n    - Description: This file will provide an overview of the Fact model, including a description of the routes used to get facts, submit facts, and get a random fact.\\n    - Code Files: app/routes/fact.routes.js\\n\\n9. Recipient.md\\n    - Description: This file will provide an overview of the Recipient model, including a description of the routes used to get, add, restore, and delete recipients, as well as get a recipient's conversation.\\n    - Code Files: app/routes/recipient.routes.js\\n\\n10. User.md\\n    - Description: This file will provide an overview of the user routes, including a description of the routes used to get the user's information, delete the user's account, verify the user's phone number, and update the user's phone number.\\n    - Code Files: app/routes/user.routes.js\\n\\n11. Webhook.md\\n    - Description: This file will provide an overview of the webhook route for the api.ai service, including a description of the requests it handles and the operations it performs.\\n    - Code Files: app/routes/webhook.routes.js\u001b[0m\n\u001b[0m                    ^\u001b[0m\n\u001b[0;31mSyntaxError\u001b[0m\u001b[0;31m:\u001b[0m unexpected character after line continuation character\n"
     ]
    }
   ],
   "metadata": {}
  },
  {
   "cell_type": "markdown",
   "source": [
    "## Endpoint Generation"
   ],
   "metadata": {}
  },
  {
   "cell_type": "code",
   "execution_count": 50,
   "source": [
    "code_index = {}\n",
    "\n",
    "with open(\"../cache/code_cache.json\",\"r\") as file:\n",
    "    code_index = json.load(file)[\"cached_index\"]\n",
    "\n",
    "fact_endpoint = code_index[\"app/routes/fact.routes.js\"]\n",
    "fact_model = code_index[\"app/models/fact.js\"]\n",
    "user_model = code_index[\"app/models/user.js\"]"
   ],
   "outputs": [],
   "metadata": {}
  },
  {
   "cell_type": "code",
   "execution_count": 52,
   "source": [
    "code_index[\"app/models/user.js\"]"
   ],
   "outputs": [
    {
     "output_type": "execute_result",
     "data": {
      "text/plain": [
       "\"const mongoose = require('mongoose');\\nconst Schema = mongoose.Schema;\\nconst crypto = require('crypto');\\nconst mongooseDelete = require('mongoose-delete');\\n\\nconst keys = require.main.require('./app/config/keys');\\nconst strings = require.main.require('./app/config/strings');\\n\\n// Make email and phone docs unique except for those that are flagged as deleted\\nconst uniquePartialIndex = {\\n    unique: true,\\n    partialFilterExpression: {\\n        deleted: false\\n    }\\n};\\n\\nconst UserSchema = new Schema({\\n    name: {\\n        first:  {type: String, required: true},\\n        last:   {type: String, required: true}\\n    },\\n    email:      {type: String},\\n    phone:      {type: String},\\n    photo:      {type: String, default: strings.userPhotoUrl},\\n    google: {\\n        id:           {type: String},\\n        accessToken:  {type: String},\\n        refreshToken: {type: String}\\n    },\\n    isAdmin: {type: Boolean, default: false},\\n    ip: String\\n}, {\\n    timestamps: true\\n});\\n\\nUserSchema.statics.encryptAccessToken = function(plainText) {\\n    return crypto\\n        .createCipher(keys.encryption.algorithm, keys.encryption.key)\\n        .update(plainText, 'utf-8', 'hex');\\n};\\n\\nUserSchema.statics.decryptAccessToken = function(cipher) {\\n    return crypto\\n        .createDecipher(keys.encryption.algorithm, keys.encryption.key)\\n        .update(cipher, 'hex', 'utf-8');\\n};\\n\\nUserSchema.plugin(mongooseDelete, {overrideMethods: true});\\n\\nUserSchema.index({email: 1, phone: 1}, uniquePartialIndex);\\n\\nvar User = mongoose.model('User', UserSchema);\\n\\nmodule.exports = User;\""
      ]
     },
     "metadata": {},
     "execution_count": 52
    }
   ],
   "metadata": {}
  },
  {
   "cell_type": "code",
   "execution_count": 12,
   "source": [
    "prompt = f\"\"\"\n",
    "Please write markdown docs for the endpoint(s) described in the following code. Format like so:\n",
    "\n",
    "# Endpoint_Category Endpoints\n",
    "\n",
    "## Endpoint1 Name\n",
    "\n",
    "```\n",
    "GET /endpoint1/path\n",
    "```\n",
    "Description:\n",
    "\n",
    "Query Parameters: \n",
    "\n",
    "Example Reponse: \n",
    "\n",
    "## Endpoint2 Name\n",
    "\n",
    "```\n",
    "GET /endpoint2/path\n",
    "```\n",
    "Description:\n",
    "\n",
    "Query Parameters: \n",
    "\n",
    "Example Response:*\n",
    "\n",
    "endpoint: {fact_endpoint}\n",
    "data model: {fact_model}\n",
    "\"\"\""
   ],
   "outputs": [],
   "metadata": {}
  },
  {
   "cell_type": "code",
   "execution_count": 13,
   "source": [
    "endpoint_completion = openai.Completion.create(\n",
    "                        model=\"code-davinci-002\",\n",
    "                        prompt = prompt,\n",
    "                        temperature = 0,\n",
    "                        max_tokens = 2048\n",
    "            ).choices[0].text\n",
    "\n",
    "md_text = endpoint_completion\n",
    "with open(\"../generated_docs/nb_docs.md\",\"w\") as file:\n",
    "    file.write(md_text)"
   ],
   "outputs": [],
   "metadata": {}
  },
  {
   "cell_type": "code",
   "execution_count": 20,
   "source": [
    "endpoint_indexer_prompt = \"\"\"\n",
    "You are a api documentation planner\n",
    "You will be given a code file which defines api endpoints. You will plan\n",
    "a markdown file which documents these endpoints\n",
    "\n",
    "1. Name the markdown file - be specific\n",
    "2. Parse the file into a list of endpoints\n",
    "3. For each endpoint, do the following:\n",
    "    - name the endpoint\n",
    "    - Give the string indices this endpoint is in between within the file.\n",
    "\n",
    "        - example: \"router.get(\" is on line X, and the closing parenthesis \")\" is on line Y\n",
    "        return {\"start_index\":X, \"end_index\":Y}, \n",
    "    - Give the filepath to the data model this endpoint uses in its response\n",
    "\n",
    "json output format:\n",
    "\n",
    "{\n",
    "    \"md_file\": \"[placeholder].md\",\n",
    "    \"endpoints\":[\n",
    "        {\n",
    "            \"name\": \"endpoint name\",\n",
    "            \"line_indices\": {\"start_index\":int, \"end_index\":int}, \n",
    "            \"response_model\": \"data_model file name from directory root\"\n",
    "        }\n",
    "        ...\n",
    "    ]\n",
    "}\n",
    "\n",
    "code:\n",
    "\n",
    "\"\"\""
   ],
   "outputs": [],
   "metadata": {}
  },
  {
   "cell_type": "code",
   "execution_count": 21,
   "source": [
    "endpoint_indexer_completion = openai.Completion.create(\n",
    "                        model=\"text-davinci-003\",\n",
    "                        prompt = endpoint_indexer_prompt+fact_endpoint,\n",
    "                        temperature = 0,\n",
    "                        max_tokens = 2048\n",
    "            ).choices[0].text\n",
    "\n",
    "md_text = endpoint_indexer_completion\n",
    "with open(\"../generated_docs/endpoint_index.md\",\"w\") as file:\n",
    "    file.write(md_text)"
   ],
   "outputs": [],
   "metadata": {}
  },
  {
   "cell_type": "code",
   "execution_count": 7,
   "source": [
    "endpoint_index = {\n",
    "    \"md_file\": \"api_endpoints.md\",\n",
    "    \"endpoints\":[\n",
    "        {\n",
    "            \"name\": \"/\",\n",
    "            \"line_indices\": {\"start_index\": 8, \"end_index\": 16}, \n",
    "            \"response_model\": \"./app/models/fact\"\n",
    "        },\n",
    "        {\n",
    "            \"name\": \"/me\",\n",
    "            \"line_indices\": {\"start_index\": 18, \"end_index\": 28}, \n",
    "            \"response_model\": \"./app/models/fact\"\n",
    "        },\n",
    "        {\n",
    "            \"name\": \"/random\",\n",
    "            \"line_indices\": {\"start_index\": 30, \"end_index\": 43}, \n",
    "            \"response_model\": \"./app/models/fact\"\n",
    "        },\n",
    "        {\n",
    "            \"name\": \"/:factID\",\n",
    "            \"line_indices\": {\"start_index\": 45, \"end_index\": 54}, \n",
    "            \"response_model\": \"./app/models/fact\"\n",
    "        },\n",
    "        {\n",
    "            \"name\": \"/\",\n",
    "            \"line_indices\": {\"start_index\": 56, \"end_index\": 68}, \n",
    "            \"response_model\": \"./app/models/fact\"\n",
    "        }\n",
    "    ]\n",
    "}"
   ],
   "outputs": [],
   "metadata": {}
  },
  {
   "cell_type": "code",
   "execution_count": 10,
   "source": [
    "fact_lines = fact_endpoint.split(\"\\n\")\n",
    "output_list = []\n",
    "for endpoint in endpoint_index[\"endpoints\"]:\n",
    "    line_indices = endpoint[\"line_indices\"]\n",
    "    print(endpoint[\"name\"])\n",
    "    ep = fact_lines[line_indices[\"start_index\"]:line_indices[\"end_index\"]]\n",
    "    print('----------------------------------')\n",
    "    for line in ep:\n",
    "        print(line)"
   ],
   "outputs": [
    {
     "output_type": "stream",
     "name": "stdout",
     "text": [
      "/\n",
      "----------------------------------\n",
      "\n",
      "router.get('/', async(req, res) => {\n",
      "    try {\n",
      "        const facts = await Fact.find().limit(5);\n",
      "        return res.status(200).json(facts);\n",
      "    } catch (err) {\n",
      "        return res.status(err.status || 400).json(err);\n",
      "    }\n",
      "/me\n",
      "----------------------------------\n",
      "// Get submitted facts\n",
      "router.get('/me', async(req, res) => {\n",
      "\n",
      "    const animalType = req.query.animal_type ? req.query.animal_type.split(',') : ['cat'];\n",
      "\n",
      "    try {\n",
      "        const data = await Fact.find({\n",
      "                user: req.user._id,\n",
      "                type: { $in: animalType }\n",
      "            })\n",
      "/random\n",
      "----------------------------------\n",
      "            .limit(10)\n",
      "\n",
      "        return res.status(200).json(data);\n",
      "    } catch (err) {\n",
      "        return res.status(400).json(err);\n",
      "    }\n",
      "});\n",
      "\n",
      "// Get a random fact\n",
      "router.get('/random', logApiRequest, async(req, res) => {\n",
      "\n",
      "    const animalType = req.query.animal_type ? req.query.animal_type.split(',') : ['cat'];\n",
      "    const amount = req.query.amount;\n",
      "/:factID\n",
      "----------------------------------\n",
      "        return res.status(405).json({ message: 'Limited to 500 facts at a time' });\n",
      "    }\n",
      "\n",
      "    try {\n",
      "        const facts = await Fact.getFact({ amount, animalType });\n",
      "        return res.status(200).json(facts);\n",
      "    } catch (err) {\n",
      "        return res.status(err.status).json(err);\n",
      "    }\n",
      "/\n",
      "----------------------------------\n",
      "// Get fact by ID\n",
      "router.get('/:factID', logApiRequest, async(req, res) => {\n",
      "    try {\n",
      "        const fact = await Fact.findById(req.params.factID).populate('user', 'name photo');\n",
      "\n",
      "        if (!fact) {\n",
      "            return res.status(404).json({ message: 'Fact not found' });\n",
      "        }\n",
      "\n",
      "        return res.status(200).json(fact);\n",
      "    } catch (err) {\n",
      "        return res.status(400).json(err);\n"
     ]
    }
   ],
   "metadata": {}
  },
  {
   "cell_type": "code",
   "execution_count": 12,
   "source": [
    "with open(\"../sample_repos/facts.js\",\"w\") as file:\n",
    "    file.write(fact_endpoint)\n",
    "\n",
    "import re\n",
    "\n",
    "pattern = re.compile(r\"^(get|post|put|delete|patch|options|head)\\(['\\\"]([^'\\\"]*)['\\\"],\\s*(.*)\\)$\")\n"
   ],
   "outputs": [],
   "metadata": {}
  },
  {
   "cell_type": "code",
   "execution_count": 34,
   "source": [
    "import re\n",
    "\n",
    "# define the regex pattern\n",
    "pattern = re.compile(r\"router\\.(get|post|put|delete)\\('(.+?)',.*\\)\", re.DOTALL)\n",
    "\n",
    "endpoint_list = []\n",
    "match = False\n",
    "start_idx = None\n",
    "end_idx = None\n",
    "paren_stack = []\n",
    "paren_map = {\n",
    "    \")\":\"(\"\n",
    "}\n",
    "# read in the file\n",
    "with open(\"../sample_repos/facts.js\", 'r') as file:\n",
    "    # iterate over each line in the file\n",
    "    for line_number, line in enumerate(file):\n",
    "        # search for the pattern in the line\n",
    "        if not match:\n",
    "            match = pattern.search(line)\n",
    "        # if a match is found, print the line number and the matched text\n",
    "        if match:\n",
    "            if start_idx == None:\n",
    "                start_idx = line_number\n",
    "                print(f\"Match found on line {start_idx}: {match.group()}\")\n",
    "            else:\n",
    "                for char in line:\n",
    "                    if char == \"(\":\n",
    "                        paren_stack.append(char)\n",
    "                    elif char == \")\":\n",
    "                        if len(paren_stack)==0:\n",
    "                            end_idx = line_number\n",
    "                            endpoint_list.append((start_idx, end_idx))\n",
    "                            print(f\"endpoint form {start_idx,end_idx}\")\n",
    "                            match = False\n",
    "                            start_idx = None\n",
    "                        else:\n",
    "                            paren_stack.pop(-1)\n",
    "\n"
   ],
   "outputs": [
    {
     "output_type": "stream",
     "name": "stdout",
     "text": [
      "Match found on line 9: router.get('/', async(req, res)\n",
      "endpoint form (9, 16)\n",
      "Match found on line 19: router.get('/me', async(req, res)\n",
      "endpoint form (19, 36)\n",
      "Match found on line 39: router.get('/random', logApiRequest, async(req, res)\n",
      "endpoint form (39, 54)\n",
      "Match found on line 57: router.get('/:factID', logApiRequest, async(req, res)\n",
      "endpoint form (57, 69)\n",
      "Match found on line 72: router.post('/', isAuthenticated, async(req, res)\n",
      "endpoint form (72, 109)\n"
     ]
    }
   ],
   "metadata": {}
  },
  {
   "cell_type": "code",
   "execution_count": null,
   "source": [
    "randomfact = \"\"\"\n",
    "// Get a random fact\n",
    "router.get('/random', logApiRequest, async(req, res) => {\n",
    "\n",
    "    const animalType = req.query.animal_type ? req.query.animal_type.split(',') : ['cat'];\n",
    "    const amount = req.query.amount;\n",
    "\n",
    "    if (amount > 500) {\n",
    "        return res.status(405).json({ message: 'Limited to 500 facts at a time' });\n",
    "    }\n",
    "\n",
    "    try {\n",
    "        const facts = await Fact.getFact({ amount, animalType });\n",
    "        return res.status(200).json(facts);\n",
    "    } catch (err) {\n",
    "        return res.status(err.status).json(err);\n",
    "    }\n",
    "});\"\"\"\n",
    "\n",
    "p = f\"\"\"Produce markdown documentation for the following api endpoint. \n",
    "\n",
    "code: {randomfact}\n",
    "file imports: {fact_model}\n",
    "\n",
    "Format like so:\n",
    "\n",
    "## Endpoint Name\n",
    "\n",
    "```\n",
    "GET /endpoint1/path\n",
    "```\n",
    "Description:\n",
    "\n",
    "Query Parameters: \n",
    "\n",
    "Example Reponse: \n",
    "\n",
    "\"\"\"\n",
    "\n",
    "\n",
    "ep_completion = openai.Completion.create(\n",
    "                        model=\"text-davinci-003\",\n",
    "                        prompt = p,\n",
    "                        temperature = 0,\n",
    "                        max_tokens = 2048\n",
    "            ).choices[0].text\n",
    "\n",
    "ep_completion"
   ],
   "outputs": [],
   "metadata": {}
  },
  {
   "cell_type": "code",
   "execution_count": 48,
   "source": [
    "randomfact = \"\"\"\n",
    "// Get a random fact\n",
    "router.get('/random', logApiRequest, async(req, res) => {\n",
    "\n",
    "    const animalType = req.query.animal_type ? req.query.animal_type.split(',') : ['cat'];\n",
    "    const amount = req.query.amount;\n",
    "\n",
    "    if (amount > 500) {\n",
    "        return res.status(405).json({ message: 'Limited to 500 facts at a time' });\n",
    "    }\n",
    "\n",
    "    try {\n",
    "        const facts = await Fact.getFact({ amount, animalType });\n",
    "        return res.status(200).json(facts);\n",
    "    } catch (err) {\n",
    "        return res.status(err.status).json(err);\n",
    "    }\n",
    "});\"\"\"\n",
    "\n",
    "filepath_prompt = f\"\"\"Give the filepath, starting with the root dir, for the data model this api endpoint uses in its response\n",
    "You will be given endpoint code, and the file imports.\n",
    "\n",
    "code: \n",
    "{randomfact}\n",
    "\n",
    "file imports: \n",
    "const express = require('express');\n",
    "const router = express.Router();\n",
    "\n",
    "const strings = require.main.require('./app/config/strings.js');\n",
    "const ( isAuthenticated, logApiRequest ) = require('../middleware');\n",
    "\n",
    "const Fact = require.main.require('./app/models/fact');\n",
    "const User = require.main.require('./app/models/user');\n",
    "\n",
    "\n",
    "\"\"\"\n",
    "\n",
    "\n",
    "path_completion = openai.Completion.create(\n",
    "                        model=\"text-davinci-003\",\n",
    "                        prompt = filepath_prompt,\n",
    "                        temperature = 0,\n",
    "                        max_tokens = 100\n",
    "            ).choices[0].text\n",
    "\n",
    "path_completion"
   ],
   "outputs": [
    {
     "output_type": "execute_result",
     "data": {
      "text/plain": [
       "'Answer: /app/models/fact.js'"
      ]
     },
     "metadata": {},
     "execution_count": 48
    }
   ],
   "metadata": {}
  },
  {
   "cell_type": "code",
   "execution_count": null,
   "source": [],
   "outputs": [],
   "metadata": {}
  },
  {
   "cell_type": "code",
   "execution_count": 24,
   "source": [
    "with open(\"../generated_docs/nb_docs.md\",\"w\") as file:\n",
    "    file.write(ep_completion)"
   ],
   "outputs": [],
   "metadata": {}
  },
  {
   "cell_type": "markdown",
   "source": [
    "## Get a Random Fact\\n\\n```\\nGET /random\\n```\\nDescription: This endpoint returns a random fact about an animal. \\n\\nQuery Parameters: \\n- animal_type: A comma separated list of animal types to get facts about. Defaults to \\'cat\\'.\\n- amount: The number of facts to return. Limited to 500 facts at a time.\\n\\nExample Response: \\n```\\n{\\n    \"user\": \"5f3f3f3f3f3f3f3f3f3f3f3f\",\\n    \"text\": \"Cats have over 20 muscles that control their ears.\",\\n    \"sendDate\": \"2020-09-09T00:00:00.000Z\",\\n    \"type\": \"cat\",\\n    \"status\": {\\n        \"verified\": true,\\n        \"feedback\": \"\",\\n        \"sentCount\": 0\\n    }\\n}\\n```"
   ],
   "metadata": {}
  },
  {
   "cell_type": "markdown",
   "source": [],
   "metadata": {}
  }
 ],
 "metadata": {
  "orig_nbformat": 4,
  "language_info": {
   "name": "python",
   "version": "3.10.10",
   "mimetype": "text/x-python",
   "codemirror_mode": {
    "name": "ipython",
    "version": 3
   },
   "pygments_lexer": "ipython3",
   "nbconvert_exporter": "python",
   "file_extension": ".py"
  },
  "kernelspec": {
   "name": "python3",
   "display_name": "Python 3.10.10 64-bit"
  },
  "interpreter": {
   "hash": "aee8b7b246df8f9039afb4144a1f6fd8d2ca17a180786b69acc140d282b71a49"
  }
 },
 "nbformat": 4,
 "nbformat_minor": 2
}