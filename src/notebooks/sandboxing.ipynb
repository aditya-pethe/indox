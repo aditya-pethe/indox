{
 "cells": [
  {
   "cell_type": "markdown",
   "source": [
    "### Code Indexer\n",
    "\n",
    "This takes in the dir url, and return a dictionary where key=filepath, value=encoded file"
   ],
   "metadata": {}
  },
  {
   "cell_type": "code",
   "execution_count": 27,
   "source": [
    "import requests\n",
    "import base64\n",
    "import urllib\n",
    "from urllib.parse import urlparse\n",
    "import os\n",
    "from dotenv import load_dotenv\n",
    "\n",
    "load_dotenv()\n",
    "\n",
    "MY_AUTH = (os.getenv(\"GITHUB_USER\"), os.getenv(\"GITHUB_PAT\"))\n",
    "\n",
    "def parse_url(repo_url):\n",
    "    parts = urlparse(repo_url).path.split(\"/\")\n",
    "    owner = parts[1]\n",
    "    repo = parts[2]\n",
    "    return owner, repo\n",
    "\n",
    "def get_tree(owner, repo, branch='master'):\n",
    "    response = requests.get(f'https://api.github.com/repos/{owner}/{repo}/git/trees/{branch}?recursive=1', auth=MY_AUTH)\n",
    "    if response.status_code == 200:\n",
    "        repo_tree = response.json()\n",
    "        return [item for item in repo_tree['tree'] if item['path'].startswith('app/') and item['type'] == 'blob']\n",
    "    else:\n",
    "        return []\n",
    "\n",
    "def get_content(owner, repo, file_sha):\n",
    "    response = requests.get(f'https://api.github.com/repos/{owner}/{repo}/git/blobs/{file_sha}', auth=MY_AUTH)\n",
    "    if response.status_code == 200:\n",
    "        file_content = response.json()\n",
    "        # base64.b64decode(file_content[\"content\"]).decode('utf-8')\n",
    "        return file_content[\"content\"]\n",
    "    else:\n",
    "        return ''\n",
    "\n",
    "def get_app_files(owner, repo, branch='master'):\n",
    "    app_files = {}\n",
    "    app_tree = get_tree(owner, repo, branch)\n",
    "    for item in app_tree:\n",
    "        file_content = get_content(owner, repo, item['sha'])\n",
    "        app_files[item['path']] = file_content\n",
    "    return app_files\n",
    "\n",
    "dir_url = \"https://github.com/alexwohlbruck/cat-facts/tree/master/app\"\n",
    "owner,repo = parse_url(dir_url)\n",
    "tree = get_tree(owner, repo)\n",
    "app_files = get_app_files(owner, repo)\n",
    "\n",
    "print(app_files.keys())\n"
   ],
   "outputs": [
    {
     "output_type": "stream",
     "name": "stdout",
     "text": [
      "dict_keys(['app/config/functions.js', 'app/config/google.js', 'app/config/keys.js', 'app/config/passport.js', 'app/config/strings.js', 'app/middleware.js', 'app/models/api-log.js', 'app/models/fact.js', 'app/models/message.js', 'app/models/recipient.js', 'app/models/unsubscribe-date.js', 'app/models/user.js', 'app/models/verification-code.js', 'app/routes/auth.routes.js', 'app/routes/catbot.routes.js', 'app/routes/console.routes.js', 'app/routes/contact.routes.js', 'app/routes/fact.routes.js', 'app/routes/index.js', 'app/routes/recipient.routes.js', 'app/routes/user.routes.js', 'app/routes/webhook.routes.js', 'app/services/ifttt.service.js', 'app/services/twitter.service.js'])\n"
     ]
    }
   ],
   "metadata": {}
  },
  {
   "cell_type": "markdown",
   "source": [
    "# Code Pruning"
   ],
   "metadata": {}
  },
  {
   "cell_type": "code",
   "execution_count": 31,
   "source": [
    "from code_indexer import get_code_index\n",
    "import openai\n",
    "import pandas as pd\n",
    "openai.api_key = os.getenv(\"OPENAI_API_KEY\")\n",
    "\n",
    "\n",
    "# code_index = get_code_index()\n",
    "code_index = get_code_index()"
   ],
   "outputs": [],
   "metadata": {}
  },
  {
   "cell_type": "code",
   "execution_count": 32,
   "source": [
    "code_df = pd.DataFrame({\n",
    "        \"file_path\":code_index.keys(),\n",
    "        \"file_content\":code_index.values()\n",
    "    })\n",
    "\n",
    "code_df"
   ],
   "outputs": [
    {
     "output_type": "execute_result",
     "data": {
      "text/plain": [
       "                          file_path  \\\n",
       "0             app/models/api-log.js   \n",
       "1                app/models/fact.js   \n",
       "2             app/models/message.js   \n",
       "3           app/models/recipient.js   \n",
       "4    app/models/unsubscribe-date.js   \n",
       "5                app/models/user.js   \n",
       "6   app/models/verification-code.js   \n",
       "7         app/routes/auth.routes.js   \n",
       "8       app/routes/catbot.routes.js   \n",
       "9      app/routes/console.routes.js   \n",
       "10     app/routes/contact.routes.js   \n",
       "11        app/routes/fact.routes.js   \n",
       "12              app/routes/index.js   \n",
       "13   app/routes/recipient.routes.js   \n",
       "14        app/routes/user.routes.js   \n",
       "15     app/routes/webhook.routes.js   \n",
       "\n",
       "                                         file_content  \n",
       "0   const mongoose = require('mongoose');\\nconst S...  \n",
       "1   const mongoose = require('mongoose');\\nconst S...  \n",
       "2   var mongoose = require('mongoose');\\nvar Schem...  \n",
       "3   const mongoose = require('mongoose');\\nconst S...  \n",
       "4   const mongoose = require('mongoose');\\nconst S...  \n",
       "5   const mongoose = require('mongoose');\\nconst S...  \n",
       "6   const mongoose = require('mongoose');\\nconst S...  \n",
       "7   const express = require('express');\\nconst rou...  \n",
       "8   const express = require('express');\\nconst rou...  \n",
       "9   const express = require('express');\\nconst rou...  \n",
       "10  const express = require('express');\\nconst rou...  \n",
       "11  const express = require('express');\\nconst rou...  \n",
       "12  var router = require('express').Router();\\n\\n/...  \n",
       "13  const express = require('express');\\nconst rou...  \n",
       "14  const express = require('express');\\nconst rou...  \n",
       "15  const express = require('express');\\nconst rou...  "
      ],
      "text/html": [
       "<div>\n",
       "<style scoped>\n",
       "    .dataframe tbody tr th:only-of-type {\n",
       "        vertical-align: middle;\n",
       "    }\n",
       "\n",
       "    .dataframe tbody tr th {\n",
       "        vertical-align: top;\n",
       "    }\n",
       "\n",
       "    .dataframe thead th {\n",
       "        text-align: right;\n",
       "    }\n",
       "</style>\n",
       "<table border=\"1\" class=\"dataframe\">\n",
       "  <thead>\n",
       "    <tr style=\"text-align: right;\">\n",
       "      <th></th>\n",
       "      <th>file_path</th>\n",
       "      <th>file_content</th>\n",
       "    </tr>\n",
       "  </thead>\n",
       "  <tbody>\n",
       "    <tr>\n",
       "      <th>0</th>\n",
       "      <td>app/models/api-log.js</td>\n",
       "      <td>const mongoose = require('mongoose');\\nconst S...</td>\n",
       "    </tr>\n",
       "    <tr>\n",
       "      <th>1</th>\n",
       "      <td>app/models/fact.js</td>\n",
       "      <td>const mongoose = require('mongoose');\\nconst S...</td>\n",
       "    </tr>\n",
       "    <tr>\n",
       "      <th>2</th>\n",
       "      <td>app/models/message.js</td>\n",
       "      <td>var mongoose = require('mongoose');\\nvar Schem...</td>\n",
       "    </tr>\n",
       "    <tr>\n",
       "      <th>3</th>\n",
       "      <td>app/models/recipient.js</td>\n",
       "      <td>const mongoose = require('mongoose');\\nconst S...</td>\n",
       "    </tr>\n",
       "    <tr>\n",
       "      <th>4</th>\n",
       "      <td>app/models/unsubscribe-date.js</td>\n",
       "      <td>const mongoose = require('mongoose');\\nconst S...</td>\n",
       "    </tr>\n",
       "    <tr>\n",
       "      <th>5</th>\n",
       "      <td>app/models/user.js</td>\n",
       "      <td>const mongoose = require('mongoose');\\nconst S...</td>\n",
       "    </tr>\n",
       "    <tr>\n",
       "      <th>6</th>\n",
       "      <td>app/models/verification-code.js</td>\n",
       "      <td>const mongoose = require('mongoose');\\nconst S...</td>\n",
       "    </tr>\n",
       "    <tr>\n",
       "      <th>7</th>\n",
       "      <td>app/routes/auth.routes.js</td>\n",
       "      <td>const express = require('express');\\nconst rou...</td>\n",
       "    </tr>\n",
       "    <tr>\n",
       "      <th>8</th>\n",
       "      <td>app/routes/catbot.routes.js</td>\n",
       "      <td>const express = require('express');\\nconst rou...</td>\n",
       "    </tr>\n",
       "    <tr>\n",
       "      <th>9</th>\n",
       "      <td>app/routes/console.routes.js</td>\n",
       "      <td>const express = require('express');\\nconst rou...</td>\n",
       "    </tr>\n",
       "    <tr>\n",
       "      <th>10</th>\n",
       "      <td>app/routes/contact.routes.js</td>\n",
       "      <td>const express = require('express');\\nconst rou...</td>\n",
       "    </tr>\n",
       "    <tr>\n",
       "      <th>11</th>\n",
       "      <td>app/routes/fact.routes.js</td>\n",
       "      <td>const express = require('express');\\nconst rou...</td>\n",
       "    </tr>\n",
       "    <tr>\n",
       "      <th>12</th>\n",
       "      <td>app/routes/index.js</td>\n",
       "      <td>var router = require('express').Router();\\n\\n/...</td>\n",
       "    </tr>\n",
       "    <tr>\n",
       "      <th>13</th>\n",
       "      <td>app/routes/recipient.routes.js</td>\n",
       "      <td>const express = require('express');\\nconst rou...</td>\n",
       "    </tr>\n",
       "    <tr>\n",
       "      <th>14</th>\n",
       "      <td>app/routes/user.routes.js</td>\n",
       "      <td>const express = require('express');\\nconst rou...</td>\n",
       "    </tr>\n",
       "    <tr>\n",
       "      <th>15</th>\n",
       "      <td>app/routes/webhook.routes.js</td>\n",
       "      <td>const express = require('express');\\nconst rou...</td>\n",
       "    </tr>\n",
       "  </tbody>\n",
       "</table>\n",
       "</div>"
      ]
     },
     "metadata": {},
     "execution_count": 32
    }
   ],
   "metadata": {}
  },
  {
   "cell_type": "code",
   "execution_count": 7,
   "source": [
    "# read all prompts\n",
    "\n",
    "prompts = {}\n",
    "templates = {}\n",
    "\n",
    "for filename in os.listdir(\"prompts\"):\n",
    "    fpath = os.path.join(\"prompts\", filename)\n",
    "\n",
    "    with open(fpath) as f:\n",
    "        fcontent = f.read()\n",
    "\n",
    "    file_key = filename.replace(\".txt\",\"\")\n",
    "    prompts[file_key] = fcontent\n",
    "\n",
    "# read all templates\n",
    "\n",
    "for filename in os.listdir(\"doc_templates\"):\n",
    "    fpath = os.path.join(\"doc_templates\", filename)\n",
    "\n",
    "    with open(fpath) as f:\n",
    "        fcontent = f.read()\n",
    "\n",
    "    file_key = filename.replace(\".json\",\"\")\n",
    "    templates[file_key] = fcontent"
   ],
   "outputs": [],
   "metadata": {}
  },
  {
   "cell_type": "code",
   "execution_count": 18,
   "source": [
    "# max_tokens_per_file = int(2048 / len(code_index.keys()))\n",
    "\n",
    "max_tokens_per_file = 20"
   ],
   "outputs": [],
   "metadata": {}
  },
  {
   "cell_type": "code",
   "execution_count": 30,
   "source": [
    "reduced_code_index = {}\n",
    "\n",
    "for filepath in code_index.keys():\n",
    "\n",
    "    code_prompt = f\"\"\"\n",
    "    Reduce the following code file to a brief summary that includes its essential components and functionality. \n",
    "    This should be no more than {max_tokens_per_file} tokens in length.\n",
    "\n",
    "    {code_index[filepath]}\"\"\"\n",
    "\n",
    "    reduced_code = openai.Completion.create(\n",
    "                model=\"text-davinci-003\",\n",
    "                prompt=code_prompt,\n",
    "                temperature=0,\n",
    "                max_tokens=max_tokens_per_file\n",
    "    )\n",
    "\n",
    "    reduced_code_index[filepath] = reduced_code.choices[0].text"
   ],
   "outputs": [
    {
     "output_type": "error",
     "ename": "InvalidRequestError",
     "evalue": "This model's maximum context length is 4097 tokens, however you requested 6861 tokens (6841 in your prompt; 20 for the completion). Please reduce your prompt; or completion length.",
     "traceback": [
      "\u001b[0;31m---------------------------------------------------------------------------\u001b[0m",
      "\u001b[0;31mInvalidRequestError\u001b[0m                       Traceback (most recent call last)",
      "Cell \u001b[0;32mIn[30], line 11\u001b[0m\n\u001b[1;32m      3\u001b[0m \u001b[38;5;28;01mfor\u001b[39;00m filepath \u001b[38;5;129;01min\u001b[39;00m code_index\u001b[38;5;241m.\u001b[39mkeys():\n\u001b[1;32m      5\u001b[0m     code_prompt \u001b[38;5;241m=\u001b[39m \u001b[38;5;124mf\u001b[39m\u001b[38;5;124m\"\"\"\u001b[39m\n\u001b[1;32m      6\u001b[0m \u001b[38;5;124m    Reduce the following code file to a brief summary that includes its essential components and functionality. \u001b[39m\n\u001b[1;32m      7\u001b[0m \u001b[38;5;124m    This should be no more than \u001b[39m\u001b[38;5;132;01m{\u001b[39;00mmax_tokens_per_file\u001b[38;5;132;01m}\u001b[39;00m\u001b[38;5;124m tokens in length.\u001b[39m\n\u001b[1;32m      8\u001b[0m \n\u001b[1;32m      9\u001b[0m \u001b[38;5;124m    \u001b[39m\u001b[38;5;132;01m{\u001b[39;00mcode_index[filepath]\u001b[38;5;132;01m}\u001b[39;00m\u001b[38;5;124m\"\"\"\u001b[39m\n\u001b[0;32m---> 11\u001b[0m     reduced_code \u001b[38;5;241m=\u001b[39m \u001b[43mopenai\u001b[49m\u001b[38;5;241;43m.\u001b[39;49m\u001b[43mCompletion\u001b[49m\u001b[38;5;241;43m.\u001b[39;49m\u001b[43mcreate\u001b[49m\u001b[43m(\u001b[49m\n\u001b[1;32m     12\u001b[0m \u001b[43m                \u001b[49m\u001b[43mmodel\u001b[49m\u001b[38;5;241;43m=\u001b[39;49m\u001b[38;5;124;43m\"\u001b[39;49m\u001b[38;5;124;43mtext-davinci-003\u001b[39;49m\u001b[38;5;124;43m\"\u001b[39;49m\u001b[43m,\u001b[49m\n\u001b[1;32m     13\u001b[0m \u001b[43m                \u001b[49m\u001b[43mprompt\u001b[49m\u001b[38;5;241;43m=\u001b[39;49m\u001b[43mcode_prompt\u001b[49m\u001b[43m,\u001b[49m\n\u001b[1;32m     14\u001b[0m \u001b[43m                \u001b[49m\u001b[43mtemperature\u001b[49m\u001b[38;5;241;43m=\u001b[39;49m\u001b[38;5;241;43m0\u001b[39;49m\u001b[43m,\u001b[49m\n\u001b[1;32m     15\u001b[0m \u001b[43m                \u001b[49m\u001b[43mmax_tokens\u001b[49m\u001b[38;5;241;43m=\u001b[39;49m\u001b[43mmax_tokens_per_file\u001b[49m\n\u001b[1;32m     16\u001b[0m \u001b[43m    \u001b[49m\u001b[43m)\u001b[49m\n\u001b[1;32m     18\u001b[0m     reduced_code_index[filepath] \u001b[38;5;241m=\u001b[39m reduced_code\u001b[38;5;241m.\u001b[39mchoices[\u001b[38;5;241m0\u001b[39m]\u001b[38;5;241m.\u001b[39mtext\n",
      "File \u001b[0;32m/usr/local/lib/python3.10/site-packages/openai/api_resources/completion.py:25\u001b[0m, in \u001b[0;36mCompletion.create\u001b[0;34m(cls, *args, **kwargs)\u001b[0m\n\u001b[1;32m     23\u001b[0m \u001b[38;5;28;01mwhile\u001b[39;00m \u001b[38;5;28;01mTrue\u001b[39;00m:\n\u001b[1;32m     24\u001b[0m     \u001b[38;5;28;01mtry\u001b[39;00m:\n\u001b[0;32m---> 25\u001b[0m         \u001b[38;5;28;01mreturn\u001b[39;00m \u001b[38;5;28;43msuper\u001b[39;49m\u001b[43m(\u001b[49m\u001b[43m)\u001b[49m\u001b[38;5;241;43m.\u001b[39;49m\u001b[43mcreate\u001b[49m\u001b[43m(\u001b[49m\u001b[38;5;241;43m*\u001b[39;49m\u001b[43margs\u001b[49m\u001b[43m,\u001b[49m\u001b[43m \u001b[49m\u001b[38;5;241;43m*\u001b[39;49m\u001b[38;5;241;43m*\u001b[39;49m\u001b[43mkwargs\u001b[49m\u001b[43m)\u001b[49m\n\u001b[1;32m     26\u001b[0m     \u001b[38;5;28;01mexcept\u001b[39;00m TryAgain \u001b[38;5;28;01mas\u001b[39;00m e:\n\u001b[1;32m     27\u001b[0m         \u001b[38;5;28;01mif\u001b[39;00m timeout \u001b[38;5;129;01mis\u001b[39;00m \u001b[38;5;129;01mnot\u001b[39;00m \u001b[38;5;28;01mNone\u001b[39;00m \u001b[38;5;129;01mand\u001b[39;00m time\u001b[38;5;241m.\u001b[39mtime() \u001b[38;5;241m>\u001b[39m start \u001b[38;5;241m+\u001b[39m timeout:\n",
      "File \u001b[0;32m/usr/local/lib/python3.10/site-packages/openai/api_resources/abstract/engine_api_resource.py:153\u001b[0m, in \u001b[0;36mEngineAPIResource.create\u001b[0;34m(cls, api_key, api_base, api_type, request_id, api_version, organization, **params)\u001b[0m\n\u001b[1;32m    127\u001b[0m \u001b[38;5;129m@classmethod\u001b[39m\n\u001b[1;32m    128\u001b[0m \u001b[38;5;28;01mdef\u001b[39;00m \u001b[38;5;21mcreate\u001b[39m(\n\u001b[1;32m    129\u001b[0m     \u001b[38;5;28mcls\u001b[39m,\n\u001b[0;32m   (...)\u001b[0m\n\u001b[1;32m    136\u001b[0m     \u001b[38;5;241m*\u001b[39m\u001b[38;5;241m*\u001b[39mparams,\n\u001b[1;32m    137\u001b[0m ):\n\u001b[1;32m    138\u001b[0m     (\n\u001b[1;32m    139\u001b[0m         deployment_id,\n\u001b[1;32m    140\u001b[0m         engine,\n\u001b[0;32m   (...)\u001b[0m\n\u001b[1;32m    150\u001b[0m         api_key, api_base, api_type, api_version, organization, \u001b[38;5;241m*\u001b[39m\u001b[38;5;241m*\u001b[39mparams\n\u001b[1;32m    151\u001b[0m     )\n\u001b[0;32m--> 153\u001b[0m     response, _, api_key \u001b[38;5;241m=\u001b[39m \u001b[43mrequestor\u001b[49m\u001b[38;5;241;43m.\u001b[39;49m\u001b[43mrequest\u001b[49m\u001b[43m(\u001b[49m\n\u001b[1;32m    154\u001b[0m \u001b[43m        \u001b[49m\u001b[38;5;124;43m\"\u001b[39;49m\u001b[38;5;124;43mpost\u001b[39;49m\u001b[38;5;124;43m\"\u001b[39;49m\u001b[43m,\u001b[49m\n\u001b[1;32m    155\u001b[0m \u001b[43m        \u001b[49m\u001b[43murl\u001b[49m\u001b[43m,\u001b[49m\n\u001b[1;32m    156\u001b[0m \u001b[43m        \u001b[49m\u001b[43mparams\u001b[49m\u001b[38;5;241;43m=\u001b[39;49m\u001b[43mparams\u001b[49m\u001b[43m,\u001b[49m\n\u001b[1;32m    157\u001b[0m \u001b[43m        \u001b[49m\u001b[43mheaders\u001b[49m\u001b[38;5;241;43m=\u001b[39;49m\u001b[43mheaders\u001b[49m\u001b[43m,\u001b[49m\n\u001b[1;32m    158\u001b[0m \u001b[43m        \u001b[49m\u001b[43mstream\u001b[49m\u001b[38;5;241;43m=\u001b[39;49m\u001b[43mstream\u001b[49m\u001b[43m,\u001b[49m\n\u001b[1;32m    159\u001b[0m \u001b[43m        \u001b[49m\u001b[43mrequest_id\u001b[49m\u001b[38;5;241;43m=\u001b[39;49m\u001b[43mrequest_id\u001b[49m\u001b[43m,\u001b[49m\n\u001b[1;32m    160\u001b[0m \u001b[43m        \u001b[49m\u001b[43mrequest_timeout\u001b[49m\u001b[38;5;241;43m=\u001b[39;49m\u001b[43mrequest_timeout\u001b[49m\u001b[43m,\u001b[49m\n\u001b[1;32m    161\u001b[0m \u001b[43m    \u001b[49m\u001b[43m)\u001b[49m\n\u001b[1;32m    163\u001b[0m     \u001b[38;5;28;01mif\u001b[39;00m stream:\n\u001b[1;32m    164\u001b[0m         \u001b[38;5;66;03m# must be an iterator\u001b[39;00m\n\u001b[1;32m    165\u001b[0m         \u001b[38;5;28;01massert\u001b[39;00m \u001b[38;5;129;01mnot\u001b[39;00m \u001b[38;5;28misinstance\u001b[39m(response, OpenAIResponse)\n",
      "File \u001b[0;32m/usr/local/lib/python3.10/site-packages/openai/api_requestor.py:226\u001b[0m, in \u001b[0;36mAPIRequestor.request\u001b[0;34m(self, method, url, params, headers, files, stream, request_id, request_timeout)\u001b[0m\n\u001b[1;32m    205\u001b[0m \u001b[38;5;28;01mdef\u001b[39;00m \u001b[38;5;21mrequest\u001b[39m(\n\u001b[1;32m    206\u001b[0m     \u001b[38;5;28mself\u001b[39m,\n\u001b[1;32m    207\u001b[0m     method,\n\u001b[0;32m   (...)\u001b[0m\n\u001b[1;32m    214\u001b[0m     request_timeout: Optional[Union[\u001b[38;5;28mfloat\u001b[39m, Tuple[\u001b[38;5;28mfloat\u001b[39m, \u001b[38;5;28mfloat\u001b[39m]]] \u001b[38;5;241m=\u001b[39m \u001b[38;5;28;01mNone\u001b[39;00m,\n\u001b[1;32m    215\u001b[0m ) \u001b[38;5;241m-\u001b[39m\u001b[38;5;241m>\u001b[39m Tuple[Union[OpenAIResponse, Iterator[OpenAIResponse]], \u001b[38;5;28mbool\u001b[39m, \u001b[38;5;28mstr\u001b[39m]:\n\u001b[1;32m    216\u001b[0m     result \u001b[38;5;241m=\u001b[39m \u001b[38;5;28mself\u001b[39m\u001b[38;5;241m.\u001b[39mrequest_raw(\n\u001b[1;32m    217\u001b[0m         method\u001b[38;5;241m.\u001b[39mlower(),\n\u001b[1;32m    218\u001b[0m         url,\n\u001b[0;32m   (...)\u001b[0m\n\u001b[1;32m    224\u001b[0m         request_timeout\u001b[38;5;241m=\u001b[39mrequest_timeout,\n\u001b[1;32m    225\u001b[0m     )\n\u001b[0;32m--> 226\u001b[0m     resp, got_stream \u001b[38;5;241m=\u001b[39m \u001b[38;5;28;43mself\u001b[39;49m\u001b[38;5;241;43m.\u001b[39;49m\u001b[43m_interpret_response\u001b[49m\u001b[43m(\u001b[49m\u001b[43mresult\u001b[49m\u001b[43m,\u001b[49m\u001b[43m \u001b[49m\u001b[43mstream\u001b[49m\u001b[43m)\u001b[49m\n\u001b[1;32m    227\u001b[0m     \u001b[38;5;28;01mreturn\u001b[39;00m resp, got_stream, \u001b[38;5;28mself\u001b[39m\u001b[38;5;241m.\u001b[39mapi_key\n",
      "File \u001b[0;32m/usr/local/lib/python3.10/site-packages/openai/api_requestor.py:599\u001b[0m, in \u001b[0;36mAPIRequestor._interpret_response\u001b[0;34m(self, result, stream)\u001b[0m\n\u001b[1;32m    591\u001b[0m     \u001b[38;5;28;01mreturn\u001b[39;00m (\n\u001b[1;32m    592\u001b[0m         \u001b[38;5;28mself\u001b[39m\u001b[38;5;241m.\u001b[39m_interpret_response_line(\n\u001b[1;32m    593\u001b[0m             line, result\u001b[38;5;241m.\u001b[39mstatus_code, result\u001b[38;5;241m.\u001b[39mheaders, stream\u001b[38;5;241m=\u001b[39m\u001b[38;5;28;01mTrue\u001b[39;00m\n\u001b[1;32m    594\u001b[0m         )\n\u001b[1;32m    595\u001b[0m         \u001b[38;5;28;01mfor\u001b[39;00m line \u001b[38;5;129;01min\u001b[39;00m parse_stream(result\u001b[38;5;241m.\u001b[39miter_lines())\n\u001b[1;32m    596\u001b[0m     ), \u001b[38;5;28;01mTrue\u001b[39;00m\n\u001b[1;32m    597\u001b[0m \u001b[38;5;28;01melse\u001b[39;00m:\n\u001b[1;32m    598\u001b[0m     \u001b[38;5;28;01mreturn\u001b[39;00m (\n\u001b[0;32m--> 599\u001b[0m         \u001b[38;5;28;43mself\u001b[39;49m\u001b[38;5;241;43m.\u001b[39;49m\u001b[43m_interpret_response_line\u001b[49m\u001b[43m(\u001b[49m\n\u001b[1;32m    600\u001b[0m \u001b[43m            \u001b[49m\u001b[43mresult\u001b[49m\u001b[38;5;241;43m.\u001b[39;49m\u001b[43mcontent\u001b[49m\u001b[43m,\u001b[49m\u001b[43m \u001b[49m\u001b[43mresult\u001b[49m\u001b[38;5;241;43m.\u001b[39;49m\u001b[43mstatus_code\u001b[49m\u001b[43m,\u001b[49m\u001b[43m \u001b[49m\u001b[43mresult\u001b[49m\u001b[38;5;241;43m.\u001b[39;49m\u001b[43mheaders\u001b[49m\u001b[43m,\u001b[49m\u001b[43m \u001b[49m\u001b[43mstream\u001b[49m\u001b[38;5;241;43m=\u001b[39;49m\u001b[38;5;28;43;01mFalse\u001b[39;49;00m\n\u001b[1;32m    601\u001b[0m \u001b[43m        \u001b[49m\u001b[43m)\u001b[49m,\n\u001b[1;32m    602\u001b[0m         \u001b[38;5;28;01mFalse\u001b[39;00m,\n\u001b[1;32m    603\u001b[0m     )\n",
      "File \u001b[0;32m/usr/local/lib/python3.10/site-packages/openai/api_requestor.py:655\u001b[0m, in \u001b[0;36mAPIRequestor._interpret_response_line\u001b[0;34m(self, rbody, rcode, rheaders, stream)\u001b[0m\n\u001b[1;32m    653\u001b[0m stream_error \u001b[38;5;241m=\u001b[39m stream \u001b[38;5;129;01mand\u001b[39;00m \u001b[38;5;124m\"\u001b[39m\u001b[38;5;124merror\u001b[39m\u001b[38;5;124m\"\u001b[39m \u001b[38;5;129;01min\u001b[39;00m resp\u001b[38;5;241m.\u001b[39mdata\n\u001b[1;32m    654\u001b[0m \u001b[38;5;28;01mif\u001b[39;00m stream_error \u001b[38;5;129;01mor\u001b[39;00m \u001b[38;5;129;01mnot\u001b[39;00m \u001b[38;5;241m200\u001b[39m \u001b[38;5;241m<\u001b[39m\u001b[38;5;241m=\u001b[39m rcode \u001b[38;5;241m<\u001b[39m \u001b[38;5;241m300\u001b[39m:\n\u001b[0;32m--> 655\u001b[0m     \u001b[38;5;28;01mraise\u001b[39;00m \u001b[38;5;28mself\u001b[39m\u001b[38;5;241m.\u001b[39mhandle_error_response(\n\u001b[1;32m    656\u001b[0m         rbody, rcode, resp\u001b[38;5;241m.\u001b[39mdata, rheaders, stream_error\u001b[38;5;241m=\u001b[39mstream_error\n\u001b[1;32m    657\u001b[0m     )\n\u001b[1;32m    658\u001b[0m \u001b[38;5;28;01mreturn\u001b[39;00m resp\n",
      "\u001b[0;31mInvalidRequestError\u001b[0m: This model's maximum context length is 4097 tokens, however you requested 6861 tokens (6841 in your prompt; 20 for the completion). Please reduce your prompt; or completion length."
     ]
    }
   ],
   "metadata": {}
  },
  {
   "cell_type": "code",
   "execution_count": 20,
   "source": [
    "for k in reduced_code_index:\n",
    "    print(k,reduced_code_index[k])"
   ],
   "outputs": [
    {
     "output_type": "stream",
     "name": "stdout",
     "text": [
      "app/models/api-log.js \n",
      "\n",
      "Mongoose model for API logs with timestamps, mongoose-delete,\n",
      "app/models/fact.js \n",
      "\n",
      "Mongoose model for facts with soft delete, random plugin, and getFact static method\n",
      "app/models/message.js \n",
      "\n",
      "Mongoose model for messages with text, number, type, and expiration.\n",
      "app/models/recipient.js \n",
      "\n",
      "Add/update recipients to subscriptions with SMS messages using Mongoose, IFTTT, and\n",
      "app/models/unsubscribe-date.js \n",
      "\n",
      "Mongoose module to check if current date is between two dates in a collection.\n",
      "app/models/user.js \n",
      "\n",
      "Mongoose model for user with unique email/phone, encryption, and soft delete.\n",
      "app/models/verification-code.js \n",
      "\n",
      "Mongoose model for VerificationCode with code, user, type, data, and\n",
      "app/routes/auth.routes.js \n",
      "\n",
      "Router for Google OAuth authentication with Passport, using Express.js, to allow\n",
      "app/routes/catbot.routes.js \n",
      "\n",
      "Express router for daily fact sending, text processing, and response.\n",
      "app/routes/console.routes.js \n",
      "\n",
      "Router for authenticated admin to get data from Recipient, UnsubscribeDate, User\n",
      "app/routes/contact.routes.js \n",
      "\n",
      "Router to get contacts from Google API, filter, map, flatten, reverse sort\n",
      "app/routes/fact.routes.js \n",
      "\n",
      "Router for GET/POST requests to retrieve/submit facts, with optional animal type and\n",
      "app/routes/index.js \n",
      "\n",
      "Router imports 8 route groups for authentication, users, catbot, recipients, facts,\n",
      "app/routes/recipient.routes.js \n",
      "\n",
      "Router for CRUD operations on Recipient model, including restoring deleted recipients, unsubsc\n",
      "app/routes/user.routes.js \n",
      "\n",
      "Router for user account management: get, delete, post, put; verify phone,\n",
      "app/routes/webhook.routes.js \n",
      "\n",
      "\n",
      "Router for API.ai webhook to process requests, add/delete recipients, and\n"
     ]
    }
   ],
   "metadata": {}
  },
  {
   "cell_type": "code",
   "execution_count": 6,
   "source": [
    "reduced_code_index[\"app/routes/catbot.routes.js\"]"
   ],
   "outputs": [
    {
     "output_type": "execute_result",
     "data": {
      "text/plain": [
       "'\\n\\nThis code file is a router for an Express application that sends out daily facts about animals to subscribed recipients. It also processes incoming messages from recipients and responds with a fact or a welcome message. It uses the apiai-promise, bluebird, and twitter.service modules, as well as the Fact, Message, and Recipient models.'"
      ]
     },
     "metadata": {},
     "execution_count": 6
    }
   ],
   "metadata": {}
  },
  {
   "cell_type": "code",
   "execution_count": 25,
   "source": [
    "with open(\"catfact_readme.md\", \"r\") as file:\n",
    "    # Read the contents of the file\n",
    "    read_me = file.read()\n",
    "\n",
    "base_prompt = f\"\"\"\n",
    "\n",
    "codebase readme: {read_me}\n",
    "\n",
    "I will give you two things:\n",
    "\n",
    "1. json containing the intended documentation structure.\n",
    "2. dict, key=filepath, value=file summary, of the codebase\n",
    "\n",
    "return the json file, but do this\n",
    "\n",
    "1. replace placeholder markdown files with appropriate names. You can add more if necessary.\n",
    "2. Under the field 'code_files' add the code filepaths that are relevant to creating that documentation. The md file will be generated from only those code files.\n",
    "\n",
    "return only json, nothing else\n",
    "\n",
    "\"\"\"\n",
    "\n"
   ],
   "outputs": [],
   "metadata": {}
  },
  {
   "cell_type": "code",
   "execution_count": 26,
   "source": [
    "api_template = templates[\"api_template\"]\n",
    "sample_prompt = f\"{base_prompt} Ok here is the json {api_template} here is the dictionary: {reduced_code_index}\"\n",
    "\n",
    "response = openai.Completion.create(\n",
    "                model=\"text-davinci-003\",\n",
    "                prompt=sample_prompt,\n",
    "                temperature=0,\n",
    "                max_tokens=2048\n",
    "    )\n",
    "\n",
    "documentation_json = response.choices[0].text\n",
    "\n",
    "generated_md = \"\"\n",
    "\n",
    "documentation_json"
   ],
   "outputs": [
    {
     "output_type": "execute_result",
     "data": {
      "text/plain": [
       "'\\n\\nHere is the updated json:\\n\\n{\\n    \"docs\": {\\n        \"overview.md\": {\\n            \"description\": \"An introduction to the API and its features.\"\\n        },\\n        \"getting-started.md\": {\\n            \"description\": \"A guide on how to set up and start using the API.\"\\n        },\\n        \"endpoints\": {\\n            \"auth.routes.md\": {\\n                \"description\": \"Documentation for the authentication endpoint\",\\n                \"code_files\": [\"app/routes/auth.routes.js\"]\\n            },\\n            \"catbot.routes.md\": {\\n                \"description\": \"Documentation for the catbot endpoint\",\\n                \"code_files\": [\"app/routes/catbot.routes.js\"]\\n            },\\n            \"console.routes.md\": {\\n                \"description\": \"Documentation for the console endpoint\",\\n                \"code_files\": [\"app/routes/console.routes.js\"]\\n            },\\n            \"contact.routes.md\": {\\n                \"description\": \"Documentation for the contact endpoint\",\\n                \"code_files\": [\"app/routes/contact.routes.js\"]\\n            },\\n            \"fact.routes.md\": {\\n                \"description\": \"Documentation for the fact endpoint\",\\n                \"code_files\": [\"app/routes/fact.routes.js\"]\\n            },\\n            \"index.md\": {\\n                \"description\": \"Documentation for the index endpoint\",\\n                \"code_files\": [\"app/routes/index.js\"]\\n            },\\n            \"recipient.routes.md\": {\\n                \"description\": \"Documentation for the recipient endpoint\",\\n                \"code_files\": [\"app/routes/recipient.routes.js\"]\\n            },\\n            \"user.routes.md\": {\\n                \"description\": \"Documentation for the user endpoint\",\\n                \"code_files\": [\"app/routes/user.routes.js\"]\\n            },\\n            \"webhook.routes.md\": {\\n                \"description\": \"Documentation for the webhook endpoint\",\\n                \"code_files\": [\"app/routes/webhook.routes.js\"]\\n            }\\n        },\\n        \"models\": {\\n            \"api-log.md\": {\\n                \"description\": \"Documentation for the API log model\",\\n                \"code_files\": [\"app/models/api-log.js\"]\\n            },\\n            \"fact.md\": {\\n                \"description\": \"Documentation for the fact model\",\\n                \"code_files\": [\"app/models/fact.js\"]\\n            },\\n            \"message.md\": {\\n                \"description\": \"Documentation for the message model\",\\n                \"code_files\": [\"app/models/message.js\"]\\n            },\\n            \"recipient.md\": {\\n                \"description\": \"Documentation for the recipient model\",\\n                \"code_files\": [\"app/models/recipient.js\"]\\n            },\\n            \"unsubscribe-date.md\": {\\n                \"description\": \"Documentation for the unsubscribe date model\",\\n                \"code_files\": [\"app/models/unsubscribe-date.js\"]\\n            },\\n            \"user.md\": {\\n                \"description\": \"Documentation for the user model\",\\n                \"code_files\": [\"app/models/user.js\"]\\n            },\\n            \"verification-code.md\": {\\n                \"description\": \"Documentation for the verification code model\",\\n                \"code_files\": [\"app/models/verification-code.js\"]\\n            }\\n        },\\n        \"examples\": {\\n            \"examples.md\": {\\n                \"description\": \"An example of how to using the API\",\\n                \"code_files\": []\\n\\n        }\\n    }\\n}'"
      ]
     },
     "metadata": {},
     "execution_count": 26
    }
   ],
   "metadata": {}
  },
  {
   "cell_type": "code",
   "execution_count": 67,
   "source": [
    "with open(\"generated_docs.md\", \"w\") as file:\n",
    "    file.write(generated_md)"
   ],
   "outputs": [],
   "metadata": {}
  },
  {
   "cell_type": "code",
   "execution_count": 84,
   "source": [
    "prompts['base_prompt']"
   ],
   "outputs": [
    {
     "output_type": "execute_result",
     "data": {
      "text/plain": [
       "'I will provide you a codebase that I want you to understand. \\n\\nThe codebase directory will be represented as a dictionary, where each key is a file path in a repository, and each value is the file content.\\n\\nKey: file path to file name\\nValue: file content\\n\\nI will feed you each file one by one. When you are ready, only reply with the phrase \"ready\". I do not want you to say anything else. \\nIf you do not understand, please reply only with the phrase \"stop\"\\n'"
      ]
     },
     "metadata": {},
     "execution_count": 84
    }
   ],
   "metadata": {}
  },
  {
   "cell_type": "code",
   "execution_count": 3,
   "source": [
    "res.keys()"
   ],
   "outputs": [
    {
     "output_type": "execute_result",
     "data": {
      "text/plain": [
       "dict_keys(['app/models/api-log.js', 'app/models/fact.js', 'app/models/message.js', 'app/models/recipient.js', 'app/models/unsubscribe-date.js', 'app/models/user.js', 'app/models/verification-code.js', 'app/routes/auth.routes.js', 'app/routes/catbot.routes.js', 'app/routes/console.routes.js', 'app/routes/contact.routes.js', 'app/routes/fact.routes.js', 'app/routes/index.js', 'app/routes/recipient.routes.js', 'app/routes/user.routes.js', 'app/routes/webhook.routes.js'])"
      ]
     },
     "metadata": {},
     "execution_count": 3
    }
   ],
   "metadata": {}
  },
  {
   "cell_type": "code",
   "execution_count": 4,
   "source": [
    "from nltk.tokenize import RegexpTokenizer\n",
    "tokenizer = RegexpTokenizer(r'\\w+')\n",
    "tokens = tokenizer.tokenize(str(res))\n",
    "print(len(tokens))\n",
    "# base64.b64decode(catbot_file).decode('utf-8')\n"
   ],
   "outputs": [
    {
     "output_type": "stream",
     "name": "stdout",
     "text": [
      "5230\n"
     ]
    }
   ],
   "metadata": {}
  },
  {
   "cell_type": "code",
   "execution_count": 3,
   "source": [
    "import json\n",
    "\n",
    "cache = {}\n",
    "\n",
    "with open(\"../cache/code_cache.json\", \"r\") as file:\n",
    "        cache = json.load(file)\n",
    "\n",
    "cache"
   ],
   "outputs": [
    {
     "output_type": "execute_result",
     "data": {
      "text/plain": [
       "{'cached_url': '', 'cached_index': {}}"
      ]
     },
     "metadata": {},
     "execution_count": 3
    }
   ],
   "metadata": {}
  },
  {
   "cell_type": "code",
   "execution_count": null,
   "source": [],
   "outputs": [],
   "metadata": {}
  }
 ],
 "metadata": {
  "orig_nbformat": 4,
  "language_info": {
   "name": "python",
   "version": "3.10.6",
   "mimetype": "text/x-python",
   "codemirror_mode": {
    "name": "ipython",
    "version": 3
   },
   "pygments_lexer": "ipython3",
   "nbconvert_exporter": "python",
   "file_extension": ".py"
  },
  "kernelspec": {
   "name": "python3",
   "display_name": "Python 3.10.6 64-bit"
  },
  "interpreter": {
   "hash": "aee8b7b246df8f9039afb4144a1f6fd8d2ca17a180786b69acc140d282b71a49"
  }
 },
 "nbformat": 4,
 "nbformat_minor": 2
}