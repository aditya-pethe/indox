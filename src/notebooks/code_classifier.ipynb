{
 "cells": [
  {
   "cell_type": "code",
   "execution_count": 1,
   "source": [
    "import openai\n",
    "import pandas as pd\n",
    "import os\n",
    "import sys\n",
    "from dotenv import load_dotenv\n",
    "load_dotenv()\n",
    "\n",
    "sys.path.append(\"../\")\n",
    "from code_indexer import get_code_index\n",
    "\n",
    "openai.api_key = os.getenv(\"OPENAI_API_KEY\")\n",
    "\n",
    "\n",
    "# code_index = get_code_index()\n",
    "code_index = get_code_index()"
   ],
   "outputs": [],
   "metadata": {}
  },
  {
   "cell_type": "code",
   "execution_count": 2,
   "source": [
    "from nltk.tokenize import word_tokenize\n",
    "\n",
    "\n",
    "code_df = pd.DataFrame({\n",
    "        \"file_path\":code_index.keys(),\n",
    "        \"file_content\":code_index.values()\n",
    "    })\n",
    "\n",
    "code_df[\"n_tokens\"] = code_df.file_content.apply(lambda x: len(word_tokenize(x)))\n",
    "code_df[\"embeddings\"] = code_df.file_content.apply(\n",
    "            lambda x: \n",
    "            openai.Embedding.create(\n",
    "            engine=\"text-embedding-ada-002\",\n",
    "            input=x\n",
    "        )[\"data\"][0][\"embedding\"]\n",
    "    )"
   ],
   "outputs": [],
   "metadata": {}
  },
  {
   "cell_type": "code",
   "execution_count": null,
   "source": [
    "import enum\n",
    "\n",
    "class Color(enum.Enum):\n",
    "    RED = \"red\"\n",
    "    GREEN = 2\n",
    "    BLUE = 3\n",
    "\n",
    "print(Color.RED.value)"
   ],
   "outputs": [],
   "metadata": {}
  },
  {
   "cell_type": "code",
   "execution_count": null,
   "source": [],
   "outputs": [],
   "metadata": {}
  }
 ],
 "metadata": {
  "orig_nbformat": 4,
  "language_info": {
   "name": "python",
   "version": "3.10.6",
   "mimetype": "text/x-python",
   "codemirror_mode": {
    "name": "ipython",
    "version": 3
   },
   "pygments_lexer": "ipython3",
   "nbconvert_exporter": "python",
   "file_extension": ".py"
  },
  "kernelspec": {
   "name": "python3",
   "display_name": "Python 3.10.6 64-bit"
  },
  "interpreter": {
   "hash": "aee8b7b246df8f9039afb4144a1f6fd8d2ca17a180786b69acc140d282b71a49"
  }
 },
 "nbformat": 4,
 "nbformat_minor": 2
}