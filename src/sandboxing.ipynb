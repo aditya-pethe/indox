{
 "cells": [
  {
   "cell_type": "markdown",
   "source": [
    "### Code Indexer\n",
    "\n",
    "This takes in the dir url, and return a dictionary where key=filepath, value=encoded file"
   ],
   "metadata": {}
  },
  {
   "cell_type": "code",
   "execution_count": null,
   "source": [
    "import requests\n",
    "import base64\n",
    "import urllib\n",
    "from urllib.parse import urlparse\n",
    "import os\n",
    "from dotenv import load_dotenv\n",
    "\n",
    "load_dotenv()\n",
    "\n",
    "MY_AUTH = (os.getenv(\"GITHUB_USER\"), os.getenv(\"GITHUB_PAT\"))\n",
    "\n",
    "def parse_url(repo_url):\n",
    "    parts = urlparse(repo_url).path.split(\"/\")\n",
    "    owner = parts[1]\n",
    "    repo = parts[2]\n",
    "    return owner, repo\n",
    "\n",
    "def get_tree(owner, repo, branch='master'):\n",
    "    response = requests.get(f'https://api.github.com/repos/{owner}/{repo}/git/trees/{branch}?recursive=1', auth=MY_AUTH)\n",
    "    if response.status_code == 200:\n",
    "        repo_tree = response.json()\n",
    "        return [item for item in repo_tree['tree'] if item['path'].startswith('app/') and item['type'] == 'blob']\n",
    "    else:\n",
    "        return []\n",
    "\n",
    "def get_content(owner, repo, file_sha):\n",
    "    response = requests.get(f'https://api.github.com/repos/{owner}/{repo}/git/blobs/{file_sha}', auth=MY_AUTH)\n",
    "    if response.status_code == 200:\n",
    "        file_content = response.json()\n",
    "        # base64.b64decode(file_content[\"content\"]).decode('utf-8')\n",
    "        return file_content[\"content\"]\n",
    "    else:\n",
    "        return ''\n",
    "\n",
    "def get_app_files(owner, repo, branch='master'):\n",
    "    app_files = {}\n",
    "    app_tree = get_tree(owner, repo, branch)\n",
    "    for item in app_tree:\n",
    "        file_content = get_content(owner, repo, item['sha'])\n",
    "        app_files[item['path']] = file_content\n",
    "    return app_files\n",
    "\n",
    "dir_url = \"https://github.com/alexwohlbruck/cat-facts/tree/master/app\"\n",
    "owner,repo = parse_url(dir_url)\n",
    "tree = get_tree(owner, repo)\n",
    "app_files = get_app_files(owner, repo)\n",
    "\n",
    "print(app_files.keys())\n"
   ],
   "outputs": [],
   "metadata": {}
  },
  {
   "cell_type": "markdown",
   "source": [
    "# Code Pruning"
   ],
   "metadata": {}
  },
  {
   "cell_type": "code",
   "execution_count": 68,
   "source": [
    "from code_indexer import get_code_index\n",
    "import openai\n",
    "openai.api_key = os.getenv(\"OPENAI_API_KEY\")\n",
    "\n",
    "\n",
    "code_index = get_code_index()"
   ],
   "outputs": [],
   "metadata": {}
  },
  {
   "cell_type": "code",
   "execution_count": 5,
   "source": [
    "# read all prompts\n",
    "\n",
    "prompts = {}\n",
    "templates = {}\n",
    "\n",
    "for filename in os.listdir(\"prompts\"):\n",
    "    fpath = os.path.join(\"prompts\", filename)\n",
    "\n",
    "    with open(fpath) as f:\n",
    "        fcontent = f.read()\n",
    "\n",
    "    file_key = filename.replace(\".txt\",\"\")\n",
    "    prompts[file_key] = fcontent\n",
    "\n",
    "# read all templates\n",
    "\n",
    "for filename in os.listdir(\"doc_templates\"):\n",
    "    fpath = os.path.join(\"prompts\", filename)\n",
    "\n",
    "    with open(fpath) as f:\n",
    "        fcontent = f.read()\n",
    "\n",
    "    file_key = filename.replace(\".json\",\"\")\n",
    "    templates[file_key] = fcontent"
   ],
   "outputs": [],
   "metadata": {}
  },
  {
   "cell_type": "code",
   "execution_count": 72,
   "source": [
    "max_tokens_per_file = int(2048 / len(code_index.keys()))"
   ],
   "outputs": [],
   "metadata": {}
  },
  {
   "cell_type": "code",
   "execution_count": 46,
   "source": [
    "reduced_code_index = {}\n",
    "\n",
    "for filepath in code_index.keys():\n",
    "\n",
    "    code_prompt = f\"\"\"\n",
    "    Reduce the following code file to a brief summary that includes its essential components and functionality. The summary should provide a high-level understanding of the code's purpose. \n",
    "    This should be no more than {max_tokens_per_file} tokens in length.\n",
    "\n",
    "    {code_index[filepath]}\"\"\"\n",
    "\n",
    "    reduced_code = openai.Completion.create(\n",
    "                model=\"text-davinci-003\",\n",
    "                prompt=code_prompt,\n",
    "                temperature=0,\n",
    "                max_tokens=max_tokens_per_file\n",
    "    )\n",
    "\n",
    "    reduced_code_index[filepath] = reduced_code.choices[0].text"
   ],
   "outputs": [],
   "metadata": {}
  },
  {
   "cell_type": "code",
   "execution_count": 47,
   "source": [
    "for k in reduced_code_index:\n",
    "    print(k,reduced_code_index[k])"
   ],
   "outputs": [
    {
     "output_type": "stream",
     "name": "stdout",
     "text": [
      "app/models/api-log.js \n",
      "\n",
      "This code file is a Mongoose schema for an API log model. It includes fields for host, body, client IP, and original URL, as well as timestamps. It also includes plugins for soft delete and random selection. It exports the model for use in other files.\n",
      "app/models/fact.js \n",
      "\n",
      "This code file is a Mongoose model for a Fact object. It includes fields for user, text, sendDate, type, and status. It also includes plugins for soft delete and random selection, as well as a static method for retrieving a fact.\n",
      "app/models/message.js \n",
      "\n",
      "This code file creates a Mongoose schema for a Message model, which includes fields for text, number, and type. It also sets an index to expire after two weeks and exports the Message model.\n",
      "app/models/recipient.js \n",
      "\n",
      "This code file is a Mongoose schema for a Recipient model. It includes fields for name, notes, number, addedBy, and subscriptions. It also includes methods for adding recipients, validating phone numbers, and sending messages. It also includes a soft delete implementation.\n",
      "app/models/unsubscribe-date.js \n",
      "\n",
      "This code file is a Mongoose model for a collection of unsubscribe dates. It contains a schema for the collection, a function to check if a date is between two other dates, and a static method to check if a user is allowed to unsubscribe.\n",
      "app/models/user.js \n",
      "\n",
      "This code file is a Mongoose schema for a User model. It includes fields for name, email, phone, photo, Google credentials, admin status, and IP address. It also includes methods for encrypting and decrypting access tokens, as well as a plugin for soft deleting documents. Finally, it creates a unique partial index for email and phone fields.\n",
      "app/models/verification-code.js \n",
      "\n",
      "This code file is a Mongoose schema for a VerificationCode model. It defines the code, user, type, and data fields, as well as a timestamp and an index that expires after one hour. It is used to store verification codes for users.\n",
      "app/routes/auth.routes.js \n",
      "\n",
      "This code file is a router for a web application that uses the Passport.js library to authenticate users with Google. It allows users to sign in with Google, import contacts from Google, and sign out. It also encrypts and decrypts user access tokens.\n",
      "app/routes/catbot.routes.js \n",
      "\n",
      "This code file is a router for an Express application that sends out daily facts about animals to recipients, processes incoming messages from recipients, and tweets out cat facts. It uses the apiai-promise, bluebird, and twitter.service modules, as well as the Fact, Message, and Recipient models. It also uses the strings.js and keys.js config files. It has two routes: '/daily' and '/message'. '/daily' gets all recipients and a fact to be sent out each day, and '/message' processes incoming messages from recipients and responds.\n",
      "app/routes/console.routes.js \n",
      "\n",
      "This code file is a router for an Express application. It requires authentication and admin privileges to access the '/data' route. It queries the Recipient, UnsubscribeDate, User, and Fact models and returns a response object containing the query results.\n",
      "app/routes/contact.routes.js \n",
      "\n",
      "This code file is a router for an Express application that uses the Google People API to retrieve contacts from a user's Google account. It filters out contacts without phone numbers, extracts the phone numbers, and checks if the contacts are already added to the application. It then returns the contacts in a reverse-sorted array.\n",
      "app/routes/fact.routes.js \n",
      "\n",
      "This code file is a router for an Express application that provides endpoints for retrieving and submitting facts about animals. It uses the Fact and User models to query and save data to the database, and also uses middleware for authentication and logging API requests.\n",
      "app/routes/index.js \n",
      "\n",
      "This code file is a router for an Express application, importing and using route groups for authentication, users, catbot, recipients, facts, console, contacts, and webhooks.\n",
      "app/routes/recipient.routes.js \n",
      "\n",
      "This code file is a router for a web application that allows users to manage recipients, messages, and verification codes. It includes functionality for adding, restoring, and deleting recipients, as well as getting a recipient's conversation and unsubscribing from the service.\n",
      "app/routes/user.routes.js \n",
      "\n",
      "This code file is a router for an Express application that provides functionality for users to delete their account, verify their phone number, and update their profile with their phone number. It uses the IFTTTService to send a verification code to the user's phone, and the VerificationCode and User models to store and retrieve data.\n",
      "app/routes/webhook.routes.js \n",
      "\n",
      "This code file is a router for an Express.js application that handles webhook requests from an API.ai chatbot. It contains logic to process requests for facts, add recipients, and unsubscribe recipients. It also includes logic to handle errors and return appropriate responses.\n"
     ]
    }
   ],
   "metadata": {}
  },
  {
   "cell_type": "code",
   "execution_count": 48,
   "source": [
    "reduced_code_index[\"app/routes/catbot.routes.js\"]"
   ],
   "outputs": [
    {
     "output_type": "execute_result",
     "data": {
      "text/plain": [
       "\"\\n\\nThis code file is a router for an Express application that sends out daily facts about animals to recipients, processes incoming messages from recipients, and tweets out cat facts. It uses the apiai-promise, bluebird, and twitter.service modules, as well as the Fact, Message, and Recipient models. It also uses the strings.js and keys.js config files. It has two routes: '/daily' and '/message'. '/daily' gets all recipients and a fact to be sent out each day, and '/message' processes incoming messages from recipients and responds.\""
      ]
     },
     "metadata": {},
     "execution_count": 48
    }
   ],
   "metadata": {}
  },
  {
   "cell_type": "code",
   "execution_count": 65,
   "source": [
    "with open(\"catfact_readme.md\", \"r\") as file:\n",
    "    # Read the contents of the file\n",
    "    read_me = file.read()\n",
    "\n",
    "base_prompt = f\"\"\"\n",
    "\n",
    "I will provide you a codebase that I want you to understand. here is the readme: {read_me}\n",
    "\n",
    "I want you to plan out documentation for this codebase. do the following:\n",
    "\n",
    "1. Write a summary of the codebase \n",
    "2. Identify the end user for the documentation\n",
    "3. Write out a list of .md files, and describe what they would each document with respect the the end user\n",
    "\n",
    "\"\"\"\n",
    "\n"
   ],
   "outputs": [],
   "metadata": {}
  },
  {
   "cell_type": "code",
   "execution_count": 66,
   "source": [
    "sample_prompt = f\"{base_prompt} here is the dictionary: {reduced_code_index}\"\n",
    "\n",
    "response = openai.Completion.create(\n",
    "                model=\"text-davinci-003\",\n",
    "                prompt=base_prompt,\n",
    "                temperature=0,\n",
    "                max_tokens=2048\n",
    "    )\n",
    "\n",
    "generated_md = response.choices[0].text"
   ],
   "outputs": [],
   "metadata": {}
  },
  {
   "cell_type": "code",
   "execution_count": 67,
   "source": [
    "with open(\"generated_docs.md\", \"w\") as file:\n",
    "    file.write(generated_md)"
   ],
   "outputs": [],
   "metadata": {}
  },
  {
   "cell_type": "code",
   "execution_count": 84,
   "source": [
    "prompts['base_prompt']"
   ],
   "outputs": [
    {
     "output_type": "execute_result",
     "data": {
      "text/plain": [
       "'I will provide you a codebase that I want you to understand. \\n\\nThe codebase directory will be represented as a dictionary, where each key is a file path in a repository, and each value is the file content.\\n\\nKey: file path to file name\\nValue: file content\\n\\nI will feed you each file one by one. When you are ready, only reply with the phrase \"ready\". I do not want you to say anything else. \\nIf you do not understand, please reply only with the phrase \"stop\"\\n'"
      ]
     },
     "metadata": {},
     "execution_count": 84
    }
   ],
   "metadata": {}
  },
  {
   "cell_type": "code",
   "execution_count": 3,
   "source": [
    "res.keys()"
   ],
   "outputs": [
    {
     "output_type": "execute_result",
     "data": {
      "text/plain": [
       "dict_keys(['app/models/api-log.js', 'app/models/fact.js', 'app/models/message.js', 'app/models/recipient.js', 'app/models/unsubscribe-date.js', 'app/models/user.js', 'app/models/verification-code.js', 'app/routes/auth.routes.js', 'app/routes/catbot.routes.js', 'app/routes/console.routes.js', 'app/routes/contact.routes.js', 'app/routes/fact.routes.js', 'app/routes/index.js', 'app/routes/recipient.routes.js', 'app/routes/user.routes.js', 'app/routes/webhook.routes.js'])"
      ]
     },
     "metadata": {},
     "execution_count": 3
    }
   ],
   "metadata": {}
  },
  {
   "cell_type": "code",
   "execution_count": 4,
   "source": [
    "from nltk.tokenize import RegexpTokenizer\n",
    "tokenizer = RegexpTokenizer(r'\\w+')\n",
    "tokens = tokenizer.tokenize(str(res))\n",
    "print(len(tokens))\n",
    "# base64.b64decode(catbot_file).decode('utf-8')\n"
   ],
   "outputs": [
    {
     "output_type": "stream",
     "name": "stdout",
     "text": [
      "5230\n"
     ]
    }
   ],
   "metadata": {}
  },
  {
   "cell_type": "code",
   "execution_count": null,
   "source": [],
   "outputs": [],
   "metadata": {}
  }
 ],
 "metadata": {
  "orig_nbformat": 4,
  "language_info": {
   "name": "python",
   "version": "3.10.6",
   "mimetype": "text/x-python",
   "codemirror_mode": {
    "name": "ipython",
    "version": 3
   },
   "pygments_lexer": "ipython3",
   "nbconvert_exporter": "python",
   "file_extension": ".py"
  },
  "kernelspec": {
   "name": "python3",
   "display_name": "Python 3.10.6 64-bit"
  },
  "interpreter": {
   "hash": "aee8b7b246df8f9039afb4144a1f6fd8d2ca17a180786b69acc140d282b71a49"
  }
 },
 "nbformat": 4,
 "nbformat_minor": 2
}