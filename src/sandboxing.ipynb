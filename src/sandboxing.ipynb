{
 "cells": [
  {
   "cell_type": "markdown",
   "source": [
    "### Code Indexer\n",
    "\n",
    "This takes in the dir url, and return a dictionary where key=filepath, value=encoded file"
   ],
   "metadata": {}
  },
  {
   "cell_type": "code",
   "execution_count": null,
   "source": [
    "import requests\n",
    "import base64\n",
    "import urllib\n",
    "from urllib.parse import urlparse\n",
    "import os\n",
    "from dotenv import load_dotenv\n",
    "\n",
    "load_dotenv()\n",
    "\n",
    "MY_AUTH = (os.getenv(\"GITHUB_USER\"), os.getenv(\"GITHUB_PAT\"))\n",
    "\n",
    "def parse_url(repo_url):\n",
    "    parts = urlparse(repo_url).path.split(\"/\")\n",
    "    owner = parts[1]\n",
    "    repo = parts[2]\n",
    "    return owner, repo\n",
    "\n",
    "def get_tree(owner, repo, branch='master'):\n",
    "    response = requests.get(f'https://api.github.com/repos/{owner}/{repo}/git/trees/{branch}?recursive=1', auth=MY_AUTH)\n",
    "    if response.status_code == 200:\n",
    "        repo_tree = response.json()\n",
    "        return [item for item in repo_tree['tree'] if item['path'].startswith('app/') and item['type'] == 'blob']\n",
    "    else:\n",
    "        return []\n",
    "\n",
    "def get_content(owner, repo, file_sha):\n",
    "    response = requests.get(f'https://api.github.com/repos/{owner}/{repo}/git/blobs/{file_sha}', auth=MY_AUTH)\n",
    "    if response.status_code == 200:\n",
    "        file_content = response.json()\n",
    "        # base64.b64decode(file_content[\"content\"]).decode('utf-8')\n",
    "        return file_content[\"content\"]\n",
    "    else:\n",
    "        return ''\n",
    "\n",
    "def get_app_files(owner, repo, branch='master'):\n",
    "    app_files = {}\n",
    "    app_tree = get_tree(owner, repo, branch)\n",
    "    for item in app_tree:\n",
    "        file_content = get_content(owner, repo, item['sha'])\n",
    "        app_files[item['path']] = file_content\n",
    "    return app_files\n",
    "\n",
    "dir_url = \"https://github.com/alexwohlbruck/cat-facts/tree/master/app\"\n",
    "owner,repo = parse_url(dir_url)\n",
    "tree = get_tree(owner, repo)\n",
    "app_files = get_app_files(owner, repo)\n",
    "\n",
    "print(app_files.keys())\n"
   ],
   "outputs": [],
   "metadata": {}
  },
  {
   "cell_type": "code",
   "execution_count": 43,
   "source": [
    "import codecs\n",
    "import base64\n",
    "# codecs.decode(encoded_file, 'base64').decode()\n",
    "\n",
    "base64.b64decode(encoded_file).decode('utf-8')"
   ],
   "outputs": [
    {
     "output_type": "execute_result",
     "data": {
      "text/plain": [
       "'var mongoose = require(\\'mongoose\\');\\nvar Schema = mongoose.Schema;\\n\\nvar MessageSchema = new Schema({\\n    text: {type: String, required: true},\\n    number: {type: String, required: true},\\n    type: {type: String, enum: [\\'incoming\\', \\'outgoing\\']}\\n}, {\\n    timestamps: true\\n});\\n\\nMessageSchema.index({ \"createdAt\": 1 }, { expireAfterSeconds: (60 * 60 * 24 * 7 * 2) });\\n\\nvar Message = mongoose.model(\\'Message\\', MessageSchema);\\n\\nmodule.exports = Message;'"
      ]
     },
     "metadata": {},
     "execution_count": 43
    }
   ],
   "metadata": {}
  },
  {
   "cell_type": "code",
   "execution_count": null,
   "source": [],
   "outputs": [],
   "metadata": {}
  }
 ],
 "metadata": {
  "orig_nbformat": 4,
  "language_info": {
   "name": "python",
   "version": "3.10.6",
   "mimetype": "text/x-python",
   "codemirror_mode": {
    "name": "ipython",
    "version": 3
   },
   "pygments_lexer": "ipython3",
   "nbconvert_exporter": "python",
   "file_extension": ".py"
  },
  "kernelspec": {
   "name": "python3",
   "display_name": "Python 3.10.6 64-bit"
  },
  "interpreter": {
   "hash": "aee8b7b246df8f9039afb4144a1f6fd8d2ca17a180786b69acc140d282b71a49"
  }
 },
 "nbformat": 4,
 "nbformat_minor": 2
}